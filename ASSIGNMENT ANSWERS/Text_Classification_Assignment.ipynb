{
 "cells": [
  {
   "cell_type": "markdown",
   "metadata": {
    "colab_type": "text",
    "id": "mDMgSstPYv0P"
   },
   "source": [
    "# Text Classification:\n",
    "\n",
    "## Data\n",
    "<pre>\n",
    "1. we have total of 20 types of documents(Text files) and total 18828 documents(text files).\n",
    "2. You can download data from this <a href='https://drive.google.com/open?id=1rxD15nyeIPIAZ-J2VYPrDRZI66-TBWvM'>link</a>, in that you will get documents.rar folder. <br>If you unzip that, you will get total of 18828 documnets. document name is defined as'ClassLabel_DocumentNumberInThatLabel'. \n",
    "so from document name, you can extract the label for that document.\n",
    "4. Now our problem is to classify all the documents into any one of the class.\n",
    "5. Below we provided count plot of all the labels in our data. \n",
    "</pre>"
   ]
  },
  {
   "cell_type": "code",
   "execution_count": null,
   "metadata": {
    "colab": {},
    "colab_type": "code",
    "id": "64U9NzWFYv0V",
    "outputId": "f3f19ed2-f637-4a8c-cff7-40a603025e96"
   },
   "outputs": [],
   "source": [
    "### count plot of all the class labels. "
   ]
  },
  {
   "cell_type": "code",
   "execution_count": 1,
   "metadata": {},
   "outputs": [
    {
     "name": "stderr",
     "output_type": "stream",
     "text": [
      "[nltk_data] Downloading package maxent_ne_chunker to\n",
      "[nltk_data]     C:\\Users\\smile\\AppData\\Roaming\\nltk_data...\n",
      "[nltk_data]   Unzipping chunkers\\maxent_ne_chunker.zip.\n"
     ]
    },
    {
     "data": {
      "text/plain": [
       "True"
      ]
     },
     "execution_count": 1,
     "metadata": {},
     "output_type": "execute_result"
    }
   ],
   "source": [
    "import nltk\n",
    "nltk.download('maxent_ne_chunker')\n",
    "  "
   ]
  },
  {
   "cell_type": "code",
   "execution_count": 36,
   "metadata": {},
   "outputs": [],
   "source": [
    "import os\n",
    "claslab=list()\n",
    "files = os.listdir(r'C:\\Users\\smile\\Desktop\\ASSIGNMENTS\\ABHISHEK SVM\\drive-download-20210529T063331Z-001\\documents')\n",
    "for filename in files:\n",
    "    index = filename.find('_') \n",
    "    claslab.append(filename[0:index])"
   ]
  },
  {
   "cell_type": "markdown",
   "metadata": {
    "colab_type": "text",
    "id": "2mK4TJOFYv0h"
   },
   "source": [
    "## Assignment:"
   ]
  },
  {
   "cell_type": "markdown",
   "metadata": {
    "colab_type": "text",
    "id": "VlqYFVI3Yv0k"
   },
   "source": [
    "#### sample document\n",
    "<pre>\n",
    "<font color='blue'>\n",
    "Subject: A word of advice\n",
    "From: jcopelan@nyx.cs.du.edu (The One and Only)\n",
    "\n",
    "In article < 65882@mimsy.umd.edu > mangoe@cs.umd.edu (Charley Wingate) writes:\n",
    ">\n",
    ">I've said 100 times that there is no \"alternative\" that should think you\n",
    ">might have caught on by now.  And there is no \"alternative\", but the point\n",
    ">is, \"rationality\" isn't an alternative either.  The problems of metaphysical\n",
    ">and religious knowledge are unsolvable-- or I should say, humans cannot\n",
    ">solve them.\n",
    "\n",
    "How does that saying go: Those who say it can't be done shouldn't interrupt\n",
    "those who are doing it.\n",
    "\n",
    "Jim\n",
    "--\n",
    "Have you washed your brain today?\n",
    "</font>\n",
    "</pre>"
   ]
  },
  {
   "cell_type": "markdown",
   "metadata": {
    "colab_type": "text",
    "id": "KAR5HoR1Yv0m"
   },
   "source": [
    "### Preprocessing:\n",
    "<pre>\n",
    "useful links: <a href='http://www.pyregex.com/'>http://www.pyregex.com/</a>\n",
    "\n",
    "<font color='blue'><b>1.</b></font> Find all emails in the document and then get the text after the \"@\". and then split those texts by '.' \n",
    "after that remove the words whose length is less than or equal to 2 and also remove'com' word and then combine those words by space. \n",
    "In one doc, if we have 2 or more mails, get all.\n",
    "<b>Eg:[test@dm1.d.com, test2@dm2.dm3.com]-->[dm1.d.com, dm3.dm4.com]-->[dm1,d,com,dm2,dm3,com]-->[dm1,dm2,dm3]-->\"dm1 dm2 dm3\" </b> \n",
    "append all those into one list/array. ( This will give length of 18828 sentences i.e one list for each of the document). \n",
    "Some sample output was shown below. \n",
    "\n",
    "> In the above sample document there are emails [jcopelan@nyx.cs.du.edu, 65882@mimsy.umd.edu, mangoe@cs.umd.edu]\n",
    "\n",
    "preprocessing:\n",
    "[jcopelan@nyx.cs.du.edu, 65882@mimsy.umd.edu, mangoe@cs.umd.edu] ==> [nyx cs du edu mimsy umd edu cs umd edu] ==> \n",
    "[nyx edu mimsy umd edu umd edu]\n",
    "\n",
    "<font color='blue'><b>2.</b></font> Replace all the emails by space in the original text. \n",
    "</pre>"
   ]
  },
  {
   "cell_type": "markdown",
   "metadata": {
    "colab_type": "text",
    "id": "zIovFDQzYv03"
   },
   "source": [
    "<pre>\n",
    "<font color='blue'><b>3.</b></font> Get subject of the text i.e. get the total lines where \"Subject:\" occur and remove \n",
    "the word which are before the \":\" remove the newlines, tabs, punctuations, any special chars.\n",
    "<b>Eg: if we have sentance like \"Subject: Re: Gospel Dating @ \\r\\r\\n\" --> You have to get \"Gospel Dating\"</b> \n",
    "Save all this data into another list/array. \n",
    "\n",
    "<font color='blue'><b>4.</b></font> After you store it in the list, Replace those sentances in original text by space.\n",
    "\n",
    "<font color='blue'><b>5.</b></font> Delete all the sentances where sentence starts with <b>\"Write to:\"</b> or <b>\"From:\"</b>.\n",
    "> In the above sample document check the 2nd line, we should remove that\n",
    "\n",
    "<font color='blue'><b>6.</b></font> Delete all the tags like \"< anyword >\"\n",
    "> In the above sample document check the 4nd line, we should remove that \"< 65882@mimsy.umd.edu >\"\n",
    "\n",
    "\n",
    "<font color='blue'><b>7.</b></font> Delete all the data which are present in the brackets. \n",
    "In many text data, we observed that, they maintained the explanation of sentence \n",
    "or translation of sentence to another language in brackets so remove all those.\n",
    "<b>Eg: \"AAIC-The course that gets you HIRED(AAIC - Der Kurs, der Sie anstellt)\" --> \"AAIC-The course that gets you HIRED\"</b>\n",
    "\n",
    "> In the above sample document check the 4nd line, we should remove that \"(Charley Wingate)\"\n",
    "\n",
    "\n",
    "<font color='blue'><b>8.</b></font> Remove all the newlines('\\n'), tabs('\\t'), \"-\", \"\\\".\n",
    "\n",
    "<font color='blue'><b>9.</b></font> Remove all the words which ends with <b>\":\"</b>.\n",
    "<b>Eg: \"Anyword:\"</b>\n",
    "> In the above sample document check the 4nd line, we should remove that \"writes:\"\n",
    "\n",
    "\n",
    "<font color='blue'><b>10.</b></font> Decontractions, replace words like below to full words. \n",
    "please check the donors choose preprocessing for this \n",
    "<b>Eg: can't -> can not, 's -> is, i've -> i have, i'm -> i am, you're -> you are, i'll --> i will </b>\n",
    "\n",
    "<b> There is no order to do point 6 to 10. but you have to get final output correctly</b>\n",
    "\n",
    "<font color='blue'><b>11.</b></font> Do chunking on the text you have after above preprocessing. \n",
    "Text chunking, also referred to as shallow parsing, is a task that \n",
    "follows Part-Of-Speech Tagging and that adds more structure to the sentence.\n",
    "So it combines the some phrases, named entities into single word.\n",
    "So after that combine all those phrases/named entities by separating <b>\"_\"</b>. \n",
    "And remove the phrases/named entities if that is a \"Person\". \n",
    "You can use <b>nltk.ne_chunk</b> to get these. \n",
    "Below we have given one example. please go through it. \n",
    "\n",
    "useful links: \n",
    "<a href='https://www.nltk.org/book/ch07.html'>https://www.nltk.org/book/ch07.html</a>\n",
    "<a href='https://stackoverflow.com/a/31837224/4084039'>https://stackoverflow.com/a/31837224/4084039</a>\n",
    "<a href='http://www.nltk.org/howto/tree.html'>http://www.nltk.org/howto/tree.html</a>\n",
    "<a href='https://stackoverflow.com/a/44294377/4084039'>https://stackoverflow.com/a/44294377/4084039</a>\n",
    "</pre>"
   ]
  },
  {
   "cell_type": "markdown",
   "metadata": {
    "colab_type": "text",
    "id": "XV8gzLUjYv0-"
   },
   "source": [
    "<pre>We did chunking for above two lines and then We got one list where each word is mapped to a \n",
    "POS(parts of speech) and also if you see \"New York\" and \"Srikanth Varma\", \n",
    "they got combined and represented as a tree and \"New York\" was referred as \"GPE\" and \"Srikanth Varma\" was referred as \"PERSON\". \n",
    "so now you have to Combine the \"New York\" with <b>\"_\"</b> i.e \"New_York\"\n",
    "and remove the \"Srikanth Varma\" from the above sentence because it is a person.</pre>"
   ]
  },
  {
   "cell_type": "code",
   "execution_count": 37,
   "metadata": {},
   "outputs": [
    {
     "data": {
      "text/plain": [
       "18828"
      ]
     },
     "execution_count": 37,
     "metadata": {},
     "output_type": "execute_result"
    }
   ],
   "source": [
    "len(claslab)"
   ]
  },
  {
   "cell_type": "code",
   "execution_count": 38,
   "metadata": {},
   "outputs": [],
   "source": [
    "import re"
   ]
  },
  {
   "cell_type": "code",
   "execution_count": 39,
   "metadata": {},
   "outputs": [],
   "source": [
    "from nltk import ne_chunk\n",
    "import nltk\n",
    "def chunking(doc):                           # rule 11\n",
    "    nes = list()\n",
    "    #for line in doc.split('\\n'):\n",
    "    for sent in nltk.sent_tokenize(doc):\n",
    "        #print(sent)\n",
    "        for chunk in nltk.ne_chunk(nltk.pos_tag(nltk.word_tokenize(sent))):\n",
    "            if hasattr(chunk, 'label') and ( chunk.label() == 'PERSON' or chunk.label() == 'GPE'):\n",
    "                nes.append(chunk.label()+ ',' +' '.join(c[0] for c in chunk))\n",
    "    #print(nes)\n",
    "    for ne in nes:\n",
    "        if ne.split(',')[0] == 'PERSON':\n",
    "            doc = re.sub(re.escape(ne.split(',')[1]),\" \",doc, flags=re.IGNORECASE)\n",
    "        if ne.split(',')[0] == 'GPE':\n",
    "            doc = re.sub(re.escape(ne.split(',')[1]),re.escape(\"_\".join(ne.split(',')[1].split())), \\\n",
    "                         doc, flags=re.IGNORECASE)\n",
    "    return doc"
   ]
  },
  {
   "cell_type": "code",
   "execution_count": 6,
   "metadata": {},
   "outputs": [],
   "source": [
    "def removetext(file_content):\n",
    "    \n",
    "    l = re.findall('\\S+@\\S+',file_content)\n",
    "    for i in l:\n",
    "        file_content=file_content.replace(i,'')\n",
    "    l1 = re.findall('Subject:.+',file_content)\n",
    "    for i in l1:\n",
    "        file_content=file_content.replace(i,'')\n",
    "    l2 = re.findall('From:.+',file_content)\n",
    "    for i in l2:\n",
    "        file_content=file_content.replace(i,'')\n",
    "    l3 = re.findall('Write to:.+',file_content)\n",
    "    for i in l3:\n",
    "        file_content=file_content.replace(i,'')\n",
    "    l4 = re.findall('\\<\\s.*\\s\\>',file_content)\n",
    "    for i in l4:\n",
    "        file_content=file_content.replace(i,'')\n",
    "    l5 = re.findall('\\(\\s.*\\s\\)',file_content)\n",
    "    for i in l5:\n",
    "        file_content=file_content.replace(i,'')\n",
    "    l6 = re.findall('\\\\n',file_content)\n",
    "    for i in l6:\n",
    "        file_content=file_content.replace(i,' ')\n",
    "    \n",
    "    l7 = re.findall('\\\\t',file_content)\n",
    "    for i in l7:\n",
    "        file_content=file_content.replace(i,'')\n",
    "    \n",
    "    l8 = re.findall('\\\\\\\\',file_content)\n",
    "    for i in l8:\n",
    "        file_content=file_content.replace(i,'')\n",
    "    \n",
    "    l9 = re.findall('\\-',file_content)\n",
    "    for i in l9:\n",
    "        file_content=file_content.replace(i,'')\n",
    "    \n",
    "    l10 = re.findall(r'\\w+:\\s?',file_content)\n",
    "    for i in l10:\n",
    "        file_content=file_content.replace(i,'')\n",
    "    l11 = re.findall('\\d',file_content)\n",
    "    for i in l11:\n",
    "        file_content=file_content.replace(i,'')  \n",
    "    \n",
    "    \n",
    "    phrase = re.sub(r\"won't\", \"will not\", file_content)\n",
    "    phrase = re.sub(r\"can\\'t\", \"can not\", phrase)\n",
    "    phrase = re.sub(r\"n\\'t\", \" not\", phrase)\n",
    "    phrase = re.sub(r\"\\'re\", \" are\", phrase)\n",
    "    phrase = re.sub(r\"\\'s\", \" is\", phrase)\n",
    "    phrase = re.sub(r\"\\'d\", \" would\", phrase)\n",
    "    phrase = re.sub(r\"\\'ll\", \" will\", phrase)\n",
    "    phrase = re.sub(r\"\\'t\", \" not\", phrase)\n",
    "    phrase = re.sub(r\"\\'ve\", \" have\", phrase)\n",
    "    phrase = re.sub(r\"\\'m\", \" am\", phrase)\n",
    "    \n",
    "    phrase=re.sub('\\)','',phrase)\n",
    "    phrase=re.sub('\\.','',phrase)\n",
    "    phrase=re.sub('\\>','',phrase)\n",
    "    phrase=re.sub('\\<','',phrase)\n",
    "    phrase=re.sub('\\?','',phrase)\n",
    "    phrase=re.sub('\\\\n','',phrase)\n",
    "    phrase=re.sub('\\,','',phrase)\n",
    "    phrase=re.sub('\\*','',phrase)\n",
    "    phrase=re.sub('\\!','',phrase)\n",
    "    phrase=re.sub('\\(','',phrase)\n",
    "    phrase=re.sub('\\=','',phrase)\n",
    "    phrase=re.sub('\\+','',phrase)\n",
    "    phrase=re.sub('\\-','',phrase)\n",
    "    phrase=re.sub('\\[',' ',phrase)\n",
    "    phrase=re.sub('\\]',' ',phrase)\n",
    "\n",
    "    \n",
    "    lst = re.findall('\\w+\\_\\w+', phrase)\n",
    "    for i in lst:\n",
    "        x=re.split('\\_',i)\n",
    "        for j in x:\n",
    "            if len(j)<=2:\n",
    "                phrase=phrase.replace(j,'')\n",
    "    \n",
    "    lst1 = re.findall('\\_', phrase)\n",
    "    for i in lst1:\n",
    "        phrase=phrase.replace(i,' ')\n",
    "    \n",
    "    phrase = chunking(phrase)\n",
    "    \n",
    "    for i in phrase.split(' '):\n",
    "        if (len(i)<=2 and len(i)>0) or len(i)>15:\n",
    "            phrase=phrase.replace(i,'')\n",
    "        else:\n",
    "            phrase=phrase.replace(i,i.lower())\n",
    "        \n",
    "    phrase = re.sub('[^A-Za-z0-9_]+', ' ', phrase)\n",
    "    return phrase\n",
    "        "
   ]
  },
  {
   "cell_type": "code",
   "execution_count": 7,
   "metadata": {},
   "outputs": [],
   "source": [
    "def preprocess(Input_Text):\n",
    "    \"\"\"Do all the Preprocessing as shown above and\n",
    "    return a tuple contain preprocess_email,preprocess_subject,preprocess_text for that Text_data\"\"\"\n",
    "    lst = re.findall('\\S+@\\S+', Input_Text)\n",
    "    #list_of_preproessed_emails = list()\n",
    "    email_words=list()\n",
    "    subject=[]\n",
    "    for i in lst:\n",
    "        index =  re.split('@', i)\n",
    "        r=re.sub('>','',index[1])\n",
    "        r1=re.sub('\\)','',r)\n",
    "        x=re.sub('\\.',' ',r1)\n",
    "        for j in x.split(' '):\n",
    "            if len(j)>2:\n",
    "                email_words.append(j)\n",
    "    list_of_preproessed_emails=' '.join(email_words)\n",
    "    for lst in re.findall(\"Subject:.+\", file_content):\n",
    "        #print(lst)\n",
    "        x=re.split(\"\\:\",lst)\n",
    "        x1=re.sub('\\)','',x[-1])\n",
    "        x2=re.sub('\\.','',x1)\n",
    "        x3=re.sub('\\>','',x2)\n",
    "        x4=re.sub('\\<','',x3)\n",
    "        x5=re.sub('\\?','',x4)\n",
    "        x6=re.sub('\\\\n','',x5)\n",
    "        x7=re.sub('\\,','',x6)\n",
    "        x8=re.sub('\\*','',x7)\n",
    "        x9=re.sub('\\!','',x8)\n",
    "        x10=re.sub('\\(','',x9)\n",
    "        x11=re.sub('\\=','',x10)\n",
    "        x12=re.sub('\\+','',x11)\n",
    "        x13=re.sub('\\-','',x12)\n",
    "        x14=re.sub('\\[',' ',x13)\n",
    "        x15=re.sub('\\]',' ',x14)\n",
    "        subject.append(x15)\n",
    "    list_of_preproessed_subjects=' '.join(subject)\n",
    "    text = removetext(Input_Text)\n",
    "    return (list_of_preproessed_emails,list_of_preproessed_subjects,text)\n",
    "    #return (list_of_preproessed_emails,subject,text)"
   ]
  },
  {
   "cell_type": "code",
   "execution_count": 8,
   "metadata": {},
   "outputs": [],
   "source": [
    "filename='C://Users//smile//Desktop//ASSIGNMENTS//ABHISHEK SVM//drive-download-20210529T063331Z-001\\documents//alt.atheism_49960.txt'\n",
    "file_object  = open(filename,'r')\n",
    "file_content = file_object.read()\n"
   ]
  },
  {
   "cell_type": "code",
   "execution_count": 10,
   "metadata": {},
   "outputs": [
    {
     "name": "stderr",
     "output_type": "stream",
     "text": [
      "[nltk_data] Downloading package words to\n",
      "[nltk_data]     C:\\Users\\smile\\AppData\\Roaming\\nltk_data...\n",
      "[nltk_data]   Unzipping corpora\\words.zip.\n"
     ]
    },
    {
     "data": {
      "text/plain": [
       "True"
      ]
     },
     "execution_count": 10,
     "metadata": {},
     "output_type": "execute_result"
    }
   ],
   "source": [
    "import nltk\n",
    "nltk.download('words')"
   ]
  },
  {
   "cell_type": "code",
   "execution_count": 11,
   "metadata": {},
   "outputs": [],
   "source": [
    "preprocess_email,preprocess_subject,preprocess_text = preprocess(file_content)"
   ]
  },
  {
   "cell_type": "code",
   "execution_count": 12,
   "metadata": {},
   "outputs": [
    {
     "name": "stdout",
     "output_type": "stream",
     "text": [
      "---preprocess_email---\n",
      "mantis netcom com mantis\n",
      "---preprocess_subject---\n",
      " Atheist Resources\n",
      "---preprocess_text---\n",
      " reource cemr tt reource ddree tt gnizti u freedom from religi fouti fh bumper ticker ted otr tt prprnli re vilble from t freedom from religi fouti t evoluti ign evoluti ign ell t fh fh ymbol like t e tick tir cr but wh fe t wd wrten i t luxe mould pltic fh potpid t people t Sn Frncco By re cn g Fh from try milg f n people who directly t price per fh mericn tt pre p publh vriou tt book crique t bible lt Biblicl ctrdicti o e uch book t bible Hbook Bll foote mericn tt Pre bn edi bible ctrdicti burd troc imml ct Bll t bible Ctrdict elf p Bed t g veri t bible Cmer od ut POETHE book ell book cludg Holy Hr ee low lternte ddre which my newer olr Promu Book glenn rive Bufflo FImericnS f humnm gnizti promotg blck eculr humnm uncoverg t hry blck freeought ty publh qurterly newlter h exmer Bufflo uned gdom tilt Pre oci til Seculr octy Ilgt high tre Hollowy od d d Brh Humnt oci ou Plce Eicl octy mb Cdu Pge Cwy Hll d wcr red i Squre d wcr fx t til Seculr octy publh t Freeker mly mgze foued Germny ibk terntiler Bu r feiloen u tten Potfch Berl Germny ibk publh miz teriln u zur ze Polc ournl r u ibk mizVertrb Potfch Berl Germny f tt book wre IB terntiler Bucrdnt r feiloen Potfch Hnnover Germny Book Ficti om ISCH t Clu Comprome Sht ry t ultimte pro t ext ll chrcter event re fictiou y imilry livg d well wlter Cnticle f eibowz e gem pot mic doomdy novel t mk who pent tir live copyg blueprt from St eibowz fillg t er wh k levg w le lter EG PGBO vy Pot mic doomdy novel clericl tte t church f exmple fbid t nye produce cri ue ny ubtnce ctg m philip IC wrote mny philoophicl oughtprovokg ht r novel H r re bizrre t time but very rochble wrote mly but wrote bout people tru religi rtr n technology lough ten lved t hd m ome t remed cepticl mgt h novel t followg re ome Glctic Potler fllible ln y umm group crftmen women remote pln re gt ctdrl from ne t ocen Wn t y g m from t er potler unble comply pold iric mug novel ze e otewy f cripti technologyd religi VIS t chizophrenic ro erc f t hidn myter Gnotic y fter rely fired h br pk ler m unknown but poibly dive ig ccompnd h dogmtic dmively tt fr ted otr odd chrcter t ive vi v mkg young womn pregnnt rurn from notr tr ytem Unftuntely termlly ill mut ted d mn whoe br wired hour ey lteng muic GET t Hmid ry d t preme t t Cgre myteriouly ted fumentlt quickly tke chrge t nti right g t book t diry womn le tr live uer t new crcy women right own property revoked tir bnk ccount re cloed ful luxur re outlwed t rdio ly ued f redg from t bible Crime re pund docr who perfmed legl bti t old wld re hunted down hnged wrg tyle dficult g ued t firt but t grow me me chillg e VIO UTHOS t bible Th omewht dull rmblg wk h ten en cricized however probbly w redg ly o t you will know wht ll t fu bout ext mny dferent veri o mke ure you g t e true veri Book ficti per E Vicr Chrt lough eem even Colic very enlightg hry l imml dulter fllc c Germn Gotte erte dunkle see roemernur ICHE Philoophicl uticti Pre Phillphi u tiled cholrly juticti tm Ct n outtg eix fg termology uge necerily teentiou re bo f negtive tm t nlf t extence lo f poive tm t lf t nextence clu gr refutti t mot chllengg rgument f prticulr ttenti pid refutg ctempy tt uch pge bn hrdcover erbck lo vilble t Ce gt y Pre comprenive crique y which cir t t ctempry fence y ultimtely mtrte t ty re unutble cent pge bn TUE Whout t ohn Hopk Univery Pre Bltime u Subtled t Orig Unlf meric Exme t wy which Unlf wtr gnotic ttic cme mtrem lterntive wldvw Focue t period while cirg Frnce Br t emph mericn prticulrly ew_Engl velopment er religiou hry eculrizti tm Whout rtr t tellectul hry t fte gle i t lf t ext pge bn hrdcover er gege SEES Edir t gr ought u dictiry quotti dferent kd ccentrtg ttement wrg which explicly implicly preent t per philoophy wldvw clu obcure ten ureed opi from mny people f ome populr vti trce t wy which vriou people expreed twted t i over t centur Que numr t quotti re rived from Crdf Wht religi Vw religi pge bn er ICH t Extence eved Edi Th book t ecd volume trilogy t gn wh t Cence tm w cclud wh wk ttempt ctruct er ductive rgument f t extence H rgument which re omewht teentiou rely up t imputti lte century wern vlue tic which uoedly imple cn cceived were cively rejected ck t ircle tm t reved edi t Extence clu n eix which mke omewht cent ttempt rebut ck ck t ircle tm Oxfd Th poumou volume ct comprenive revw t prcipl rgument f gt t extence rnge from t clicl philoophicl poi l rough t ml rgument ewmn nt t recent rtement t clicl te lo ddree oe poi which p t ccept yd t relm t rtil uch oe rkegrd ung well replcement f uch xirchm t book light red le fmltic tter wrten n wk refrehgly direct wn compred wh t hwvg Holy Illutrted Hry eligiou urr dne Promu t religiou perecuti from ncnt time t preent dy not ly ibrry Cgre Ctlog Crd umr O E fricn mericn n ology see t ltg f fricn mericn f Humnm bove GOO STEI ology tm tilm Promu Book nology coverg wi rnge ubject cludg t evil evil ly t Hry freeought Comprenive bibliogrphy EU COHE t d t bibleBelver Promu Book tudy why people come fumentlt wht effect h tm reource tre mll mild rchive erver t mntcouk which crr rchive old lttmmted rticle ted otr file f me fmti e mil yg lp e tmx will mil bck reply mtw \n"
     ]
    }
   ],
   "source": [
    "print('---preprocess_email---')\n",
    "print(preprocess_email)\n",
    "print('---preprocess_subject---')\n",
    "print(preprocess_subject)\n",
    "print('---preprocess_text---')\n",
    "print(preprocess_text)"
   ]
  },
  {
   "cell_type": "code",
   "execution_count": 17,
   "metadata": {},
   "outputs": [
    {
     "name": "stderr",
     "output_type": "stream",
     "text": [
      "100%|██████████| 18828/18828 [30:19<00:00, 10.35it/s]  \n"
     ]
    }
   ],
   "source": [
    "import re\n",
    "import os\n",
    "from tqdm import tqdm\n",
    "path = 'C:\\\\Users\\\\smile\\\\Desktop\\\\ASSIGNMENTS\\\\ABHISHEK SVM\\\\drive-download-20210529T063331Z-001\\\\documents\\\\'\n",
    "files = os.listdir(path)\n",
    "list_of_emails = list()\n",
    "list_of_subjects = list()\n",
    "list_of_text = list()\n",
    "for filename in tqdm(files):\n",
    "    file_object  = open(path+filename,'r')\n",
    "    file_content = file_object.read()\n",
    "    file_object_write  = open(path+filename,'w')\n",
    "    preprocess_email,preprocess_subject,preprocess_text = preprocess(file_content)\n",
    "    #print(preprocess_text)\n",
    "    list_of_emails.append(preprocess_email)\n",
    "    list_of_subjects.append(preprocess_subject)\n",
    "    list_of_text.append(preprocess_text)\n",
    "    file_object_write.write(preprocess_text)\n",
    "    file_object_write.close()"
   ]
  },
  {
   "cell_type": "code",
   "execution_count": 18,
   "metadata": {},
   "outputs": [
    {
     "data": {
      "text/html": [
       "<div>\n",
       "<style scoped>\n",
       "    .dataframe tbody tr th:only-of-type {\n",
       "        vertical-align: middle;\n",
       "    }\n",
       "\n",
       "    .dataframe tbody tr th {\n",
       "        vertical-align: top;\n",
       "    }\n",
       "\n",
       "    .dataframe thead th {\n",
       "        text-align: right;\n",
       "    }\n",
       "</style>\n",
       "<table border=\"1\" class=\"dataframe\">\n",
       "  <thead>\n",
       "    <tr style=\"text-align: right;\">\n",
       "      <th></th>\n",
       "      <th>preprocessed_col</th>\n",
       "    </tr>\n",
       "  </thead>\n",
       "  <tbody>\n",
       "    <tr>\n",
       "      <th>0</th>\n",
       "      <td>mantis netcom com mantis  Atheist Resources  r...</td>\n",
       "    </tr>\n",
       "    <tr>\n",
       "      <th>1</th>\n",
       "      <td>mantis mantis mantis  Introduction to Atheism ...</td>\n",
       "    </tr>\n",
       "    <tr>\n",
       "      <th>2</th>\n",
       "      <td>dbstu1 tu-bs mimsy umd edu umd edu  Gospel Dat...</td>\n",
       "    </tr>\n",
       "    <tr>\n",
       "      <th>3</th>\n",
       "      <td>mantis kepler unh edu  university violating se...</td>\n",
       "    </tr>\n",
       "    <tr>\n",
       "      <th>4</th>\n",
       "      <td>Watson Ibm Com harder ccr-p ida org, harder cc...</td>\n",
       "    </tr>\n",
       "  </tbody>\n",
       "</table>\n",
       "</div>"
      ],
      "text/plain": [
       "                                    preprocessed_col\n",
       "0  mantis netcom com mantis  Atheist Resources  r...\n",
       "1  mantis mantis mantis  Introduction to Atheism ...\n",
       "2  dbstu1 tu-bs mimsy umd edu umd edu  Gospel Dat...\n",
       "3  mantis kepler unh edu  university violating se...\n",
       "4  Watson Ibm Com harder ccr-p ida org, harder cc..."
      ]
     },
     "execution_count": 18,
     "metadata": {},
     "output_type": "execute_result"
    }
   ],
   "source": [
    "import pandas as pd\n",
    "x = pd.DataFrame(list(zip(list_of_emails, list_of_subjects,list_of_text)), \n",
    "               columns =['preprocessed_email', 'preprocessed_subject','preprocessed_text'])\n",
    "x['preprocessed_col']= x[\"preprocessed_email\"].astype(str) +\" \"+ x[\"preprocessed_subject\"].astype(str) +\" \"+ x[\"preprocessed_text\"].astype(str)\n",
    "x.drop(['preprocessed_email', 'preprocessed_subject','preprocessed_text'], axis=1,inplace=True)\n",
    "x.head()"
   ]
  },
  {
   "cell_type": "code",
   "execution_count": 40,
   "metadata": {},
   "outputs": [
    {
     "data": {
      "text/html": [
       "<div>\n",
       "<style scoped>\n",
       "    .dataframe tbody tr th:only-of-type {\n",
       "        vertical-align: middle;\n",
       "    }\n",
       "\n",
       "    .dataframe tbody tr th {\n",
       "        vertical-align: top;\n",
       "    }\n",
       "\n",
       "    .dataframe thead th {\n",
       "        text-align: right;\n",
       "    }\n",
       "</style>\n",
       "<table border=\"1\" class=\"dataframe\">\n",
       "  <thead>\n",
       "    <tr style=\"text-align: right;\">\n",
       "      <th></th>\n",
       "      <th>claslab</th>\n",
       "    </tr>\n",
       "  </thead>\n",
       "  <tbody>\n",
       "    <tr>\n",
       "      <th>0</th>\n",
       "      <td>alt.atheism</td>\n",
       "    </tr>\n",
       "    <tr>\n",
       "      <th>1</th>\n",
       "      <td>alt.atheism</td>\n",
       "    </tr>\n",
       "    <tr>\n",
       "      <th>2</th>\n",
       "      <td>alt.atheism</td>\n",
       "    </tr>\n",
       "    <tr>\n",
       "      <th>3</th>\n",
       "      <td>alt.atheism</td>\n",
       "    </tr>\n",
       "    <tr>\n",
       "      <th>4</th>\n",
       "      <td>alt.atheism</td>\n",
       "    </tr>\n",
       "  </tbody>\n",
       "</table>\n",
       "</div>"
      ],
      "text/plain": [
       "       claslab\n",
       "0  alt.atheism\n",
       "1  alt.atheism\n",
       "2  alt.atheism\n",
       "3  alt.atheism\n",
       "4  alt.atheism"
      ]
     },
     "execution_count": 40,
     "metadata": {},
     "output_type": "execute_result"
    }
   ],
   "source": [
    "y = pd.DataFrame(list(claslab), \n",
    "               columns =['claslab']) \n",
    "y.head()"
   ]
  },
  {
   "cell_type": "code",
   "execution_count": 41,
   "metadata": {},
   "outputs": [
    {
     "data": {
      "text/plain": [
       "(20,)"
      ]
     },
     "execution_count": 41,
     "metadata": {},
     "output_type": "execute_result"
    }
   ],
   "source": [
    "y['claslab'].unique().shape"
   ]
  },
  {
   "cell_type": "code",
   "execution_count": 42,
   "metadata": {},
   "outputs": [
    {
     "name": "stdout",
     "output_type": "stream",
     "text": [
      "(14121, 1) (14121, 1)\n"
     ]
    }
   ],
   "source": [
    "from sklearn.model_selection import train_test_split\n",
    "\n",
    "X_train, X_test, y_train, y_test = train_test_split(x, y, test_size=0.25, stratify=y,random_state=10)\n",
    "print(X_train.shape,y_train.shape)"
   ]
  },
  {
   "cell_type": "code",
   "execution_count": 43,
   "metadata": {},
   "outputs": [
    {
     "name": "stdout",
     "output_type": "stream",
     "text": [
      "(4707, 1) (4707, 1)\n"
     ]
    }
   ],
   "source": [
    "print(X_test.shape,y_test.shape)"
   ]
  },
  {
   "cell_type": "code",
   "execution_count": 44,
   "metadata": {},
   "outputs": [],
   "source": [
    "import tensorflow as tf\n",
    "from tensorflow.keras.preprocessing.sequence import pad_sequences\n",
    "from tensorflow.keras.preprocessing.text import Tokenizer\n",
    "t=  Tokenizer(\n",
    "    filters='',\n",
    "    lower=False,\n",
    "    split=\" \",\n",
    "    char_level=False,\n",
    "    oov_token=None,\n",
    "    document_count=0,\n",
    ")\n",
    "t.fit_on_texts(X_train['preprocessed_col'].tolist())"
   ]
  },
  {
   "cell_type": "code",
   "execution_count": 45,
   "metadata": {},
   "outputs": [
    {
     "name": "stdout",
     "output_type": "stream",
     "text": [
      "(14121, 300) (4707, 300)\n"
     ]
    }
   ],
   "source": [
    "max_length = 300\n",
    "\n",
    "sequences = t.texts_to_sequences(list(X_train['preprocessed_col'].values))\n",
    "pre_pad_train = pad_sequences(sequences,maxlen=max_length, padding='pre')\n",
    "\n",
    "sequences = t.texts_to_sequences(list(X_test['preprocessed_col'].values))\n",
    "pre_pad_test = pad_sequences(sequences,maxlen=max_length, padding='pre')\n",
    "print(pre_pad_train.shape,pre_pad_test.shape)"
   ]
  },
  {
   "cell_type": "code",
   "execution_count": 46,
   "metadata": {},
   "outputs": [
    {
     "name": "stdout",
     "output_type": "stream",
     "text": [
      "159940\n"
     ]
    }
   ],
   "source": [
    "vocab= len(t.word_index)+1\n",
    "print(vocab)"
   ]
  },
  {
   "cell_type": "code",
   "execution_count": 51,
   "metadata": {},
   "outputs": [
    {
     "name": "stderr",
     "output_type": "stream",
     "text": [
      "100%|██████████| 51510/51510 [00:00<00:00, 748539.11it/s]\n"
     ]
    }
   ],
   "source": [
    "import numpy as np\n",
    "import pickle\n",
    "from tqdm import tqdm\n",
    "f = open('C:\\\\Users\\\\smile\\\\Desktop\\\\ASSIGNMENTS\\\\ABHISHEK SVM\\\\drive-download-20210529T063331Z-001\\\\glove_vectors', 'rb')      \n",
    "picklef = pickle.load(f)\n",
    "embeddings_index = dict()\n",
    "for line in tqdm(picklef):\n",
    "    values = line.split()\n",
    "    word = values[0]\n",
    "    coefs = picklef[word][:300]\n",
    "    embeddings_index[word] = coefs\n",
    "f.close()"
   ]
  },
  {
   "cell_type": "code",
   "execution_count": 53,
   "metadata": {},
   "outputs": [],
   "source": [
    "# create a weight matrix for words in training docs\n",
    "import numpy as np\n",
    "embedding_matrix = np.zeros((vocab, 300))\n",
    "for word, i in t.word_index.items():\n",
    "    embedding_vector = embeddings_index.get(word)\n",
    "    if embedding_vector is not None:\n",
    "        embedding_matrix[i] = embedding_vector"
   ]
  },
  {
   "cell_type": "code",
   "execution_count": 54,
   "metadata": {},
   "outputs": [
    {
     "data": {
      "text/plain": [
       "(20,)"
      ]
     },
     "execution_count": 54,
     "metadata": {},
     "output_type": "execute_result"
    }
   ],
   "source": [
    "y_train['claslab'].unique().shape"
   ]
  },
  {
   "cell_type": "code",
   "execution_count": 59,
   "metadata": {},
   "outputs": [],
   "source": [
    "from sklearn.preprocessing import LabelEncoder \n",
    "  \n",
    "le = LabelEncoder() \n",
    "  \n",
    "train_seq= le.fit_transform(y_train['claslab'])\n",
    "test_seq= le.fit_transform(y_test['claslab'])"
   ]
  },
  {
   "cell_type": "code",
   "execution_count": 60,
   "metadata": {},
   "outputs": [
    {
     "data": {
      "text/plain": [
       "array(['sci.electronics', 'soc.religion.christian', 'rec.motorcycles',\n",
       "       'talk.politics.misc', 'sci.crypt', 'rec.autos',\n",
       "       'talk.politics.guns', 'rec.sport.hockey', 'misc.forsale',\n",
       "       'comp.os.ms-windows.misc', 'comp.graphics', 'sci.space',\n",
       "       'comp.sys.ibm.pc.hardware', 'rec.sport.baseball', 'comp.windows.x',\n",
       "       'talk.politics.mideast', 'sci.med', 'alt.atheism',\n",
       "       'talk.religion.misc', 'comp.sys.mac.hardware'], dtype=object)"
      ]
     },
     "execution_count": 60,
     "metadata": {},
     "output_type": "execute_result"
    }
   ],
   "source": [
    "y_train['claslab'].unique()"
   ]
  },
  {
   "cell_type": "code",
   "execution_count": 61,
   "metadata": {},
   "outputs": [
    {
     "data": {
      "text/plain": [
       "(14121,)"
      ]
     },
     "execution_count": 61,
     "metadata": {},
     "output_type": "execute_result"
    }
   ],
   "source": [
    "train_seq.shape"
   ]
  },
  {
   "cell_type": "code",
   "execution_count": 62,
   "metadata": {},
   "outputs": [],
   "source": [
    "train_lab = tf.keras.utils.to_categorical(\n",
    "    train_seq, num_classes=20, dtype='float32'\n",
    ")\n",
    "test_lab = tf.keras.utils.to_categorical(\n",
    "    test_seq, num_classes=20, dtype='float32'\n",
    ")"
   ]
  },
  {
   "cell_type": "code",
   "execution_count": 63,
   "metadata": {},
   "outputs": [
    {
     "data": {
      "text/plain": [
       "((14121, 20), (4707, 20))"
      ]
     },
     "execution_count": 63,
     "metadata": {},
     "output_type": "execute_result"
    }
   ],
   "source": [
    "train_lab.shape,test_lab.shape"
   ]
  },
  {
   "cell_type": "code",
   "execution_count": 93,
   "metadata": {},
   "outputs": [],
   "source": [
    "from datetime import datetime\n",
    "from tensorflow.keras.models import Sequential\n",
    "from tensorflow.keras.layers import Dense\n",
    "from tensorflow.keras.layers import Flatten\n",
    "from tensorflow.keras.layers import Embedding\n",
    "from tensorflow.keras.layers import Conv1D,Concatenate\n",
    "from tensorflow.keras.layers import Dropout,MaxPooling1D\n",
    "from tensorflow.keras.models import Model\n",
    "from tensorflow.keras.utils import plot_model\n",
    "import tensorflow as tf\n",
    "from tensorflow.keras.callbacks import ModelCheckpoint\n",
    "from tensorflow.keras import initializers"
   ]
  },
  {
   "cell_type": "code",
   "execution_count": 81,
   "metadata": {},
   "outputs": [
    {
     "name": "stdout",
     "output_type": "stream",
     "text": [
      "Model: \"model\"\n",
      "__________________________________________________________________________________________________\n",
      "Layer (type)                    Output Shape         Param #     Connected to                     \n",
      "==================================================================================================\n",
      "input_1 (InputLayer)            [(None, 300)]        0                                            \n",
      "__________________________________________________________________________________________________\n",
      "embedding (Embedding)           (None, 300, 300)     47982000    input_1[0][0]                    \n",
      "__________________________________________________________________________________________________\n",
      "conv1d (Conv1D)                 (None, 299, 8)       4808        embedding[0][0]                  \n",
      "__________________________________________________________________________________________________\n",
      "conv1d_1 (Conv1D)               (None, 299, 9)       5409        embedding[0][0]                  \n",
      "__________________________________________________________________________________________________\n",
      "conv1d_2 (Conv1D)               (None, 299, 10)      6010        embedding[0][0]                  \n",
      "__________________________________________________________________________________________________\n",
      "concatenate (Concatenate)       (None, 299, 27)      0           conv1d[0][0]                     \n",
      "                                                                 conv1d_1[0][0]                   \n",
      "                                                                 conv1d_2[0][0]                   \n",
      "__________________________________________________________________________________________________\n",
      "max_pooling1d (MaxPooling1D)    (None, 299, 27)      0           concatenate[0][0]                \n",
      "__________________________________________________________________________________________________\n",
      "conv1d_3 (Conv1D)               (None, 298, 11)      605         max_pooling1d[0][0]              \n",
      "__________________________________________________________________________________________________\n",
      "conv1d_4 (Conv1D)               (None, 298, 12)      660         max_pooling1d[0][0]              \n",
      "__________________________________________________________________________________________________\n",
      "conv1d_5 (Conv1D)               (None, 298, 13)      715         max_pooling1d[0][0]              \n",
      "__________________________________________________________________________________________________\n",
      "concatenate_1 (Concatenate)     (None, 298, 36)      0           conv1d_3[0][0]                   \n",
      "                                                                 conv1d_4[0][0]                   \n",
      "                                                                 conv1d_5[0][0]                   \n",
      "__________________________________________________________________________________________________\n",
      "max_pooling1d_1 (MaxPooling1D)  (None, 298, 36)      0           concatenate_1[0][0]              \n",
      "__________________________________________________________________________________________________\n",
      "conv1d_6 (Conv1D)               (None, 297, 16)      1168        max_pooling1d_1[0][0]            \n",
      "__________________________________________________________________________________________________\n",
      "flatten (Flatten)               (None, 4752)         0           conv1d_6[0][0]                   \n",
      "__________________________________________________________________________________________________\n",
      "dropout (Dropout)               (None, 4752)         0           flatten[0][0]                    \n",
      "__________________________________________________________________________________________________\n",
      "dense (Dense)                   (None, 32)           152096      dropout[0][0]                    \n",
      "__________________________________________________________________________________________________\n",
      "dense_1 (Dense)                 (None, 20)           660         dense[0][0]                      \n",
      "==================================================================================================\n",
      "Total params: 48,154,131\n",
      "Trainable params: 172,131\n",
      "Non-trainable params: 47,982,000\n",
      "__________________________________________________________________________________________________\n",
      "('You must install pydot (`pip install pydot`) and install graphviz (see instructions at https://graphviz.gitlab.io/download/) ', 'for plot_model/model_to_dot to work.')\n",
      "WARNING:tensorflow:`write_grads` will be ignored in TensorFlow 2.0 for the `TensorBoard` Callback.\n"
     ]
    }
   ],
   "source": [
    "tf.keras.backend.clear_session()\n",
    "inputs =tf.keras.Input(shape=(300,))\n",
    "x=Embedding(vocab, 300, weights=[embedding_matrix],input_length=max_length,trainable=False)(inputs)\n",
    "initializer = tf.keras.initializers.RandomNormal(\n",
    "    mean=0.0, stddev=0.05, seed=None\n",
    ")\n",
    "x1=Conv1D(8,2,activation='relu',kernel_initializer=initializer)(x)\n",
    "x2=Conv1D(9,2,activation='relu',kernel_initializer=initializer)(x)\n",
    "x3=Conv1D(10,2,activation='relu',kernel_initializer=initializer)(x)\n",
    "\n",
    "result=Concatenate()([x1,  x2, x3])\n",
    "maxpool=MaxPooling1D(pool_size=2, strides=1, padding='same')(result)\n",
    "\n",
    "x4=Conv1D(11,2,activation='relu',kernel_initializer=initializer)(maxpool)\n",
    "x5=Conv1D(12,2,activation='relu',kernel_initializer=initializer)(maxpool)\n",
    "x6=Conv1D(13,2,activation='relu',kernel_initializer=initializer)(maxpool)\n",
    "\n",
    "result1=Concatenate()([x4,  x5, x6])\n",
    "maxpool1=MaxPooling1D(pool_size=2, strides=1, padding='same')(result1)\n",
    "\n",
    "x7=Conv1D(16,2,activation='relu',kernel_initializer=initializer)(maxpool1)\n",
    "x8=Flatten()(x7)\n",
    "x9=Dropout(0.2)(x8)\n",
    "\n",
    "x10=Dense(32, activation='relu',kernel_initializer=initializer) (x9)\n",
    "output=Dense(20, activation='softmax',kernel_initializer=initializer)(x10)\n",
    "model = Model(inputs=inputs, outputs=output)\n",
    "model.summary()\n",
    "\n",
    "img_file = 'C:\\\\Users\\\\smile\\\\Desktop\\\\ASSIGNMENTS\\\\ABHISHEK SVM\\\\drive-download-20210529T063331Z-001\\\\model_1.png'\n",
    "tf.keras.utils.plot_model(model, to_file=img_file, show_shapes=True)\n",
    "\n",
    "optimizer = tf.keras.optimizers.Adam(learning_rate=0.001)\n",
    "earlystop = tf.keras.callbacks.EarlyStopping(monitor='val_accuracy', patience=5)\n",
    "path = 'C:\\\\Users\\\\smile\\\\Desktop\\\\ASSIGNMENTS\\\\ABHISHEK SVM\\\\drive-download-20210529T063331Z-001\\\\'\n",
    "checkpoint = ModelCheckpoint(os.path.join(path, 'model_1.hdf5'), monitor = 'val_acc',save_best_only=True)\n",
    "\n",
    "log_dir=\"C:\\\\Users\\\\smile\\\\Desktop\\\\ASSIGNMENTS\\\\ABHISHEK SVM\\\\drive-download-20210529T063331Z-001\\\\logs_model_1\\\\log_model_1\" + 'log'#datetime.utcnow().strftime('%Y-%m-%d %H:%M:%S.%f')\n",
    "tensorboard_callback = tf.keras.callbacks.TensorBoard(log_dir=log_dir,histogram_freq=1, write_graph=True,write_grads=True)\n"
   ]
  },
  {
   "cell_type": "code",
   "execution_count": 71,
   "metadata": {},
   "outputs": [
    {
     "name": "stdout",
     "output_type": "stream",
     "text": [
      "Epoch 1/20\n",
      "442/442 [==============================] - 31s 67ms/step - loss: 2.7067 - accuracy: 0.1058 - f1_m: 2.7424e-04 - val_loss: 2.5011 - val_accuracy: 0.1470 - val_f1_m: 0.0037\n",
      "WARNING:tensorflow:Can save best model only with val_acc available, skipping.\n",
      "Epoch 2/20\n",
      "442/442 [==============================] - 26s 60ms/step - loss: 2.3746 - accuracy: 0.1816 - f1_m: 0.0166 - val_loss: 2.2767 - val_accuracy: 0.2122 - val_f1_m: 0.0807\n",
      "WARNING:tensorflow:Can save best model only with val_acc available, skipping.\n",
      "Epoch 3/20\n",
      "442/442 [==============================] - 28s 64ms/step - loss: 1.9773 - accuracy: 0.3141 - f1_m: 0.1458 - val_loss: 1.9541 - val_accuracy: 0.3233 - val_f1_m: 0.1919\n",
      "WARNING:tensorflow:Can save best model only with val_acc available, skipping.\n",
      "Epoch 4/20\n",
      "442/442 [==============================] - 27s 61ms/step - loss: 1.6714 - accuracy: 0.4262 - f1_m: 0.2991 - val_loss: 1.8310 - val_accuracy: 0.3718 - val_f1_m: 0.2703\n",
      "WARNING:tensorflow:Can save best model only with val_acc available, skipping.\n",
      "Epoch 5/20\n",
      "442/442 [==============================] - 28s 63ms/step - loss: 1.4918 - accuracy: 0.4846 - f1_m: 0.3905 - val_loss: 1.7128 - val_accuracy: 0.4190 - val_f1_m: 0.3383\n",
      "WARNING:tensorflow:Can save best model only with val_acc available, skipping.\n",
      "Epoch 6/20\n",
      "442/442 [==============================] - 28s 64ms/step - loss: 1.3432 - accuracy: 0.5375 - f1_m: 0.4656 - val_loss: 1.7088 - val_accuracy: 0.4357 - val_f1_m: 0.3878\n",
      "WARNING:tensorflow:Can save best model only with val_acc available, skipping.\n",
      "Epoch 7/20\n",
      "442/442 [==============================] - 30s 68ms/step - loss: 1.2134 - accuracy: 0.5793 - f1_m: 0.5322 - val_loss: 1.7022 - val_accuracy: 0.4362 - val_f1_m: 0.4016\n",
      "WARNING:tensorflow:Can save best model only with val_acc available, skipping.\n",
      "Epoch 8/20\n",
      "442/442 [==============================] - 33s 75ms/step - loss: 1.0920 - accuracy: 0.6253 - f1_m: 0.5838 - val_loss: 1.7532 - val_accuracy: 0.4589 - val_f1_m: 0.4461\n",
      "WARNING:tensorflow:Can save best model only with val_acc available, skipping.\n",
      "Epoch 9/20\n",
      "442/442 [==============================] - 32s 72ms/step - loss: 0.9905 - accuracy: 0.6546 - f1_m: 0.6296 - val_loss: 1.7913 - val_accuracy: 0.4561 - val_f1_m: 0.4461\n",
      "WARNING:tensorflow:Can save best model only with val_acc available, skipping.\n",
      "Epoch 10/20\n",
      "442/442 [==============================] - 32s 73ms/step - loss: 0.8925 - accuracy: 0.6913 - f1_m: 0.6783 - val_loss: 1.8702 - val_accuracy: 0.4640 - val_f1_m: 0.4617\n",
      "WARNING:tensorflow:Can save best model only with val_acc available, skipping.\n",
      "Epoch 11/20\n",
      "442/442 [==============================] - 27s 62ms/step - loss: 0.8036 - accuracy: 0.7191 - f1_m: 0.7134 - val_loss: 1.9626 - val_accuracy: 0.4651 - val_f1_m: 0.4623\n",
      "WARNING:tensorflow:Can save best model only with val_acc available, skipping.\n",
      "Epoch 12/20\n",
      "442/442 [==============================] - 32s 73ms/step - loss: 0.7286 - accuracy: 0.7466 - f1_m: 0.7387 - val_loss: 2.1364 - val_accuracy: 0.4555 - val_f1_m: 0.4473\n",
      "WARNING:tensorflow:Can save best model only with val_acc available, skipping.\n",
      "Epoch 13/20\n",
      "442/442 [==============================] - 30s 69ms/step - loss: 0.6763 - accuracy: 0.7641 - f1_m: 0.7608 - val_loss: 2.3563 - val_accuracy: 0.4521 - val_f1_m: 0.4521\n",
      "WARNING:tensorflow:Can save best model only with val_acc available, skipping.\n",
      "Epoch 14/20\n",
      "442/442 [==============================] - 30s 68ms/step - loss: 0.6138 - accuracy: 0.7905 - f1_m: 0.7839 - val_loss: 2.3232 - val_accuracy: 0.4689 - val_f1_m: 0.4682\n",
      "WARNING:tensorflow:Can save best model only with val_acc available, skipping.\n",
      "Epoch 15/20\n",
      "442/442 [==============================] - 31s 71ms/step - loss: 0.5600 - accuracy: 0.8079 - f1_m: 0.8045 - val_loss: 2.4919 - val_accuracy: 0.4604 - val_f1_m: 0.4639\n",
      "WARNING:tensorflow:Can save best model only with val_acc available, skipping.\n",
      "Epoch 16/20\n",
      "442/442 [==============================] - 31s 71ms/step - loss: 0.5190 - accuracy: 0.8232 - f1_m: 0.8227 - val_loss: 2.6126 - val_accuracy: 0.4498 - val_f1_m: 0.4543\n",
      "WARNING:tensorflow:Can save best model only with val_acc available, skipping.\n",
      "Epoch 17/20\n",
      "442/442 [==============================] - 37s 84ms/step - loss: 0.4835 - accuracy: 0.8307 - f1_m: 0.8312 - val_loss: 2.6181 - val_accuracy: 0.4693 - val_f1_m: 0.4668\n",
      "WARNING:tensorflow:Can save best model only with val_acc available, skipping.\n",
      "Epoch 18/20\n",
      "442/442 [==============================] - 32s 72ms/step - loss: 0.4634 - accuracy: 0.8383 - f1_m: 0.8405 - val_loss: 2.7911 - val_accuracy: 0.4655 - val_f1_m: 0.4695\n",
      "WARNING:tensorflow:Can save best model only with val_acc available, skipping.\n",
      "Epoch 19/20\n",
      "442/442 [==============================] - 36s 81ms/step - loss: 0.4350 - accuracy: 0.8492 - f1_m: 0.8501 - val_loss: 2.8468 - val_accuracy: 0.4542 - val_f1_m: 0.4548\n",
      "WARNING:tensorflow:Can save best model only with val_acc available, skipping.\n",
      "Epoch 20/20\n",
      "442/442 [==============================] - 33s 75ms/step - loss: 0.3995 - accuracy: 0.8671 - f1_m: 0.8679 - val_loss: 2.9260 - val_accuracy: 0.4591 - val_f1_m: 0.4623\n",
      "WARNING:tensorflow:Can save best model only with val_acc available, skipping.\n",
      "Saved model to disk\n"
     ]
    }
   ],
   "source": [
    "#https://datascience.stackexchange.com/questions/45165/how-to-get-accuracy-f1-precision-and-recall-for-a-keras-model\n",
    "import tensorflow.keras.backend as K\n",
    "\n",
    "def recall_m(y_true, y_pred):\n",
    "    true_positives = K.sum(K.round(K.clip(y_true * y_pred, 0, 1)))\n",
    "    possible_positives = K.sum(K.round(K.clip(y_true, 0, 1)))\n",
    "    recall = true_positives / (possible_positives + K.epsilon())\n",
    "    return recall\n",
    "\n",
    "def precision_m(y_true, y_pred):\n",
    "    true_positives = K.sum(K.round(K.clip(y_true * y_pred, 0, 1)))\n",
    "    predicted_positives = K.sum(K.round(K.clip(y_pred, 0, 1)))\n",
    "    precision = true_positives / (predicted_positives + K.epsilon())\n",
    "    return precision\n",
    "\n",
    "def f1_m(y_true, y_pred):\n",
    "    precision = precision_m(y_true, y_pred)\n",
    "    recall = recall_m(y_true, y_pred)\n",
    "    return 2*((precision*recall)/(precision+recall+K.epsilon()))\n",
    "\n",
    "model.compile(optimizer=optimizer, loss='categorical_crossentropy',metrics=['accuracy',f1_m])\n",
    "\n",
    "\n",
    "model.fit(pre_pad_train,train_lab,epochs=20, validation_data=(pre_pad_test,test_lab),callbacks=[tensorboard_callback,earlystop,checkpoint])\n",
    "print(\"Saved model to disk\")"
   ]
  },
  {
   "cell_type": "code",
   "execution_count": 72,
   "metadata": {},
   "outputs": [],
   "source": [
    "from tensorflow.keras.backend import clear_session\n",
    "# Before instantiating a tf.data.Dataset obj & before model creation, call:\n",
    "clear_session()"
   ]
  },
  {
   "cell_type": "code",
   "execution_count": 73,
   "metadata": {},
   "outputs": [
    {
     "data": {
      "text/html": [
       "\n",
       "      <iframe id=\"tensorboard-frame-96db4bda5ebaccfd\" width=\"100%\" height=\"800\" frameborder=\"0\">\n",
       "      </iframe>\n",
       "      <script>\n",
       "        (function() {\n",
       "          const frame = document.getElementById(\"tensorboard-frame-96db4bda5ebaccfd\");\n",
       "          const url = new URL(\"/\", window.location);\n",
       "          const port = 6006;\n",
       "          if (port) {\n",
       "            url.port = port;\n",
       "          }\n",
       "          frame.src = url;\n",
       "        })();\n",
       "      </script>\n",
       "    "
      ],
      "text/plain": [
       "<IPython.core.display.HTML object>"
      ]
     },
     "metadata": {},
     "output_type": "display_data"
    }
   ],
   "source": [
    "%load_ext tensorboard\n",
    "%tensorboard --logdir=\"C:\\Users\\smile\\Desktop\\ASSIGNMENTS\\ABHISHEK SVM\\drive-download-20210529T063331Z-001\\logs_model_1\\log_model_1log\""
   ]
  },
  {
   "cell_type": "markdown",
   "metadata": {},
   "source": [
    "\n",
    "## epoch_accuracy\n",
    "1.For train data, epoch accuracy increses from 0.0312 at epoch 1 to 0.6994 at epoch 10.\n",
    "\n",
    "2.For validation data,epoch accuracy increses from 0.1334 at epoch 1 to 0.3314 at epoch 10.\n",
    "\n",
    "## epoch_f1_m\n",
    "1.For train data, epoch f1 score increses from 0.0011 at epoch 1 to 0.7618 at epoch 10.\n",
    "\n",
    "2.For validation data,epoch f1 score increses from 0.0012 at epoch 1 to 0.3538at epoch 10.\n",
    "\n",
    "## epoch_loss\n",
    "1.For train data, epoch loss is decreses from 2.9972 at epoch 1 to 0.9287 at epoch 10.\n",
    "\n",
    "2.For validation data,epoch loss is varing from 2.6061 to 3.3506 .\n",
    "\n",
    "# Histogram\n",
    "1.The weights of each conv and dense layer are not normaly distributed and almost zero centered"
   ]
  },
  {
   "cell_type": "code",
   "execution_count": 85,
   "metadata": {},
   "outputs": [
    {
     "data": {
      "image/png": "[encoded data removed]",
      "text/plain": [
       "<IPython.core.display.Image object>"
      ]
     },
     "execution_count": 85,
     "metadata": {},
     "output_type": "execute_result"
    }
   ],
   "source": [
    "from IPython.display import Image\n",
    "Image('C://Users//smile//Desktop//ASSIGNMENTS//ABHISHEK SVM//drive-download-20210529T063331Z-001//model_1.png')"
   ]
  },
  {
   "cell_type": "code",
   "execution_count": 86,
   "metadata": {},
   "outputs": [],
   "source": [
    "import tensorflow as tf\n",
    "from tensorflow.keras.preprocessing.sequence import pad_sequences\n",
    "from tensorflow.keras.preprocessing.text import Tokenizer\n",
    "t=  Tokenizer(\n",
    "    num_words=300,\n",
    "    filters='',\n",
    "    lower=False,\n",
    "    split=\" \",\n",
    "    char_level=True,\n",
    "    oov_token=None,\n",
    "    document_count=0,\n",
    ")\n",
    "t.fit_on_texts(X_train['preprocessed_col'].tolist())"
   ]
  },
  {
   "cell_type": "code",
   "execution_count": 88,
   "metadata": {},
   "outputs": [
    {
     "name": "stdout",
     "output_type": "stream",
     "text": [
      "101\n"
     ]
    }
   ],
   "source": [
    "vocab_size = len(t.word_index) + 1\n",
    "print(vocab_size)"
   ]
  },
  {
   "cell_type": "code",
   "execution_count": 89,
   "metadata": {},
   "outputs": [
    {
     "name": "stdout",
     "output_type": "stream",
     "text": [
      "4707\n",
      "(14121, 300) (4707, 300)\n"
     ]
    }
   ],
   "source": [
    "max_length = 300\n",
    "\n",
    "sequences = t.texts_to_sequences(list(X_train['preprocessed_col'].values))\n",
    "pre_pad_train_char = pad_sequences(sequences,maxlen=max_length, padding='pre')\n",
    "\n",
    "sequences = t.texts_to_sequences(list(X_test['preprocessed_col'].values))\n",
    "pre_pad_test_char = pad_sequences(sequences,maxlen=max_length, padding='pre')\n",
    "print(len(sequences))\n",
    "print(pre_pad_train_char.shape,pre_pad_test_char.shape)"
   ]
  },
  {
   "cell_type": "code",
   "execution_count": 90,
   "metadata": {},
   "outputs": [],
   "source": [
    "# create a weight matrix for words in training docs\n",
    "import numpy as np\n",
    "embedding_matrix_char = np.zeros((vocab_size_char, 300))\n",
    "for word, i in t.word_index.items():\n",
    "    embedding_vector = embeddings_index.get(word)\n",
    "    if embedding_vector is not None:\n",
    "        embedding_matrix_char[i] = embedding_vector"
   ]
  },
  {
   "cell_type": "code",
   "execution_count": 91,
   "metadata": {},
   "outputs": [
    {
     "data": {
      "text/plain": [
       "(101, 300)"
      ]
     },
     "execution_count": 91,
     "metadata": {},
     "output_type": "execute_result"
    }
   ],
   "source": [
    "embedding_matrix_char.shape"
   ]
  },
  {
   "cell_type": "markdown",
   "metadata": {},
   "source": [
    "## MODEL_2"
   ]
  },
  {
   "cell_type": "code",
   "execution_count": 94,
   "metadata": {},
   "outputs": [
    {
     "name": "stdout",
     "output_type": "stream",
     "text": [
      "Model: \"model_2\"\n",
      "_________________________________________________________________\n",
      "Layer (type)                 Output Shape              Param #   \n",
      "=================================================================\n",
      "input_3 (InputLayer)         [(None, 300)]             0         \n",
      "_________________________________________________________________\n",
      "embedding_2 (Embedding)      (None, 300, 300)          30300     \n",
      "_________________________________________________________________\n",
      "conv1d_11 (Conv1D)           (None, 299, 128)          76928     \n",
      "_________________________________________________________________\n",
      "conv1d_12 (Conv1D)           (None, 298, 64)           16448     \n",
      "_________________________________________________________________\n",
      "max_pooling1d_4 (MaxPooling1 (None, 298, 64)           0         \n",
      "_________________________________________________________________\n",
      "conv1d_13 (Conv1D)           (None, 297, 32)           4128      \n",
      "_________________________________________________________________\n",
      "conv1d_14 (Conv1D)           (None, 296, 16)           1040      \n",
      "_________________________________________________________________\n",
      "max_pooling1d_5 (MaxPooling1 (None, 296, 16)           0         \n",
      "_________________________________________________________________\n",
      "flatten_2 (Flatten)          (None, 4736)              0         \n",
      "_________________________________________________________________\n",
      "dropout_2 (Dropout)          (None, 4736)              0         \n",
      "_________________________________________________________________\n",
      "dense_5 (Dense)              (None, 64)                303168    \n",
      "_________________________________________________________________\n",
      "dense_6 (Dense)              (None, 32)                2080      \n",
      "_________________________________________________________________\n",
      "dense_7 (Dense)              (None, 20)                660       \n",
      "=================================================================\n",
      "Total params: 434,752\n",
      "Trainable params: 404,452\n",
      "Non-trainable params: 30,300\n",
      "_________________________________________________________________\n",
      "('You must install pydot (`pip install pydot`) and install graphviz (see instructions at https://graphviz.gitlab.io/download/) ', 'for plot_model/model_to_dot to work.')\n",
      "WARNING:tensorflow:`write_grads` will be ignored in TensorFlow 2.0 for the `TensorBoard` Callback.\n"
     ]
    }
   ],
   "source": [
    "inputs =tf.keras.Input(shape=(300,))\n",
    "x=Embedding(vocab_size_char, 300, weights=[embedding_matrix_char],input_length=max_length,trainable=False)(inputs)\n",
    "x1=Conv1D(128,2,activation='relu')(x)\n",
    "x2=Conv1D(64,2,activation='relu')(x1)\n",
    "maxpool=MaxPooling1D(pool_size=2, strides=1, padding='same')(x2)\n",
    "\n",
    "x4=Conv1D(32,2,activation='relu')(maxpool)\n",
    "x5=Conv1D(16,2,activation='relu')(x4)\n",
    "maxpool1=MaxPooling1D(pool_size=2, strides=1, padding='same')(x5)\n",
    "\n",
    "x8=Flatten()(maxpool1)\n",
    "x9=Dropout(0.2)(x8)\n",
    "x10=Dense(64, activation='relu') (x9)\n",
    "x11=Dense(32, activation='relu') (x10)\n",
    "output=Dense(20, activation='softmax')(x11)\n",
    "model = Model(inputs=inputs, outputs=output)\n",
    "model.summary()\n",
    "\n",
    "img_file = 'C:\\\\Users\\\\smile\\\\Desktop\\\\ASSIGNMENTS\\\\ABHISHEK SVM\\\\drive-download-20210529T063331Z-001\\\\model_2.png'\n",
    "plot_model(model, to_file=img_file, show_shapes=True)\n",
    "\n",
    "optimizer = tf.keras.optimizers.Adam(learning_rate=0.001)\n",
    "earlystop = tf.keras.callbacks.EarlyStopping(monitor='val_accuracy', patience=2)\n",
    "path = 'C:\\\\Users\\\\smile\\\\Desktop\\\\ASSIGNMENTS\\\\ABHISHEK SVM\\\\drive-download-20210529T063331Z-001\\\\'\n",
    "checkpoint = ModelCheckpoint(os.path.join(path, 'model_2.hdf5'), monitor = 'val_acc',save_best_only=True)\n",
    "\n",
    "log_dir=\"C:\\\\Users\\\\smile\\\\Desktop\\\\ASSIGNMENTS\\\\ABHISHEK SVM\\\\drive-download-20210529T063331Z-001\\\\logs_Model2\\\\\" + 'log'#datetime.utcnow().strftime('%Y-%m-%d %H:%M:%S.%f')[:-3]\n",
    "tensorboard_callback = tf.keras.callbacks.TensorBoard(log_dir=log_dir,histogram_freq=1, write_graph=True,write_grads=True)\n",
    "\n"
   ]
  },
  {
   "cell_type": "code",
   "execution_count": 96,
   "metadata": {},
   "outputs": [
    {
     "name": "stdout",
     "output_type": "stream",
     "text": [
      "Epoch 1/20\n",
      "442/442 [==============================] - 38s 82ms/step - loss: 2.9936 - accuracy: 0.0522 - f1_m: 0.0000e+00 - val_loss: 2.9868 - val_accuracy: 0.0654 - val_f1_m: 0.0000e+00\n",
      "WARNING:tensorflow:Can save best model only with val_acc available, skipping.\n",
      "Epoch 2/20\n",
      "442/442 [==============================] - 33s 75ms/step - loss: 2.9742 - accuracy: 0.0681 - f1_m: 0.0000e+00 - val_loss: 2.9577 - val_accuracy: 0.0780 - val_f1_m: 0.0000e+00\n",
      "WARNING:tensorflow:Can save best model only with val_acc available, skipping.\n",
      "Epoch 3/20\n",
      "442/442 [==============================] - 36s 81ms/step - loss: 2.9514 - accuracy: 0.0755 - f1_m: 0.0000e+00 - val_loss: 2.9371 - val_accuracy: 0.0724 - val_f1_m: 0.0000e+00\n",
      "WARNING:tensorflow:Can save best model only with val_acc available, skipping.\n",
      "Epoch 4/20\n",
      "442/442 [==============================] - 34s 78ms/step - loss: 2.8982 - accuracy: 0.0913 - f1_m: 6.8559e-04 - val_loss: 2.8912 - val_accuracy: 0.0909 - val_f1_m: 0.0000e+00\n",
      "WARNING:tensorflow:Can save best model only with val_acc available, skipping.\n",
      "Epoch 5/20\n",
      "442/442 [==============================] - 32s 72ms/step - loss: 2.7862 - accuracy: 0.1243 - f1_m: 0.0087 - val_loss: 2.8636 - val_accuracy: 0.1037 - val_f1_m: 0.0033\n",
      "WARNING:tensorflow:Can save best model only with val_acc available, skipping.\n",
      "Epoch 6/20\n",
      "442/442 [==============================] - 33s 75ms/step - loss: 2.6155 - accuracy: 0.1839 - f1_m: 0.0402 - val_loss: 2.8675 - val_accuracy: 0.1262 - val_f1_m: 0.0149 0s - loss: 2.6149 - accuracy: 0.1839 -\n",
      "WARNING:tensorflow:Can save best model only with val_acc available, skipping.\n",
      "Epoch 7/20\n",
      "442/442 [==============================] - 35s 78ms/step - loss: 2.4036 - accuracy: 0.2473 - f1_m: 0.1017 - val_loss: 2.9292 - val_accuracy: 0.1338 - val_f1_m: 0.0304\n",
      "WARNING:tensorflow:Can save best model only with val_acc available, skipping.\n",
      "Epoch 8/20\n",
      "442/442 [==============================] - 34s 77ms/step - loss: 2.1770 - accuracy: 0.3159 - f1_m: 0.1830 - val_loss: 3.0795 - val_accuracy: 0.1353 - val_f1_m: 0.0477\n",
      "WARNING:tensorflow:Can save best model only with val_acc available, skipping.\n",
      "Epoch 9/20\n",
      "442/442 [==============================] - 32s 73ms/step - loss: 1.9560 - accuracy: 0.3893 - f1_m: 0.2870 - val_loss: 3.2787 - val_accuracy: 0.1315 - val_f1_m: 0.0649\n",
      "WARNING:tensorflow:Can save best model only with val_acc available, skipping.\n",
      "Epoch 10/20\n",
      "442/442 [==============================] - 34s 77ms/step - loss: 1.7454 - accuracy: 0.4476 - f1_m: 0.3727 - val_loss: 3.5346 - val_accuracy: 0.1298 - val_f1_m: 0.0795\n",
      "WARNING:tensorflow:Can save best model only with val_acc available, skipping.\n",
      "Saved model to disk\n"
     ]
    }
   ],
   "source": [
    "#https://datascience.stackexchange.com/questions/45165/how-to-get-accuracy-f1-precision-and-recall-for-a-keras-model\n",
    "import tensorflow.keras.backend as K\n",
    "\n",
    "def recall_m(y_true, y_pred):\n",
    "    true_positives = K.sum(K.round(K.clip(y_true * y_pred, 0, 1)))\n",
    "    possible_positives = K.sum(K.round(K.clip(y_true, 0, 1)))\n",
    "    recall = true_positives / (possible_positives + K.epsilon())\n",
    "    return recall\n",
    "\n",
    "def precision_m(y_true, y_pred):\n",
    "    true_positives = K.sum(K.round(K.clip(y_true * y_pred, 0, 1)))\n",
    "    predicted_positives = K.sum(K.round(K.clip(y_pred, 0, 1)))\n",
    "    precision = true_positives / (predicted_positives + K.epsilon())\n",
    "    return precision\n",
    "\n",
    "def f1_m(y_true, y_pred):\n",
    "    precision = precision_m(y_true, y_pred)\n",
    "    recall = recall_m(y_true, y_pred)\n",
    "    return 2*((precision*recall)/(precision+recall+K.epsilon()))\n",
    "\n",
    "model.compile(optimizer=optimizer, loss='categorical_crossentropy',metrics=['accuracy',f1_m])\n",
    "\n",
    "\n",
    "model.fit(pre_pad_train_char,train_lab,epochs=20, validation_data=(pre_pad_test_char,test_lab),callbacks=[tensorboard_callback,earlystop,checkpoint])\n",
    "print(\"Saved model to disk\")"
   ]
  },
  {
   "cell_type": "code",
   "execution_count": 97,
   "metadata": {},
   "outputs": [
    {
     "name": "stdout",
     "output_type": "stream",
     "text": [
      "The tensorboard extension is already loaded. To reload it, use:\n",
      "  %reload_ext tensorboard\n"
     ]
    },
    {
     "data": {
      "text/html": [
       "\n",
       "      <iframe id=\"tensorboard-frame-1fe555053950a526\" width=\"100%\" height=\"800\" frameborder=\"0\">\n",
       "      </iframe>\n",
       "      <script>\n",
       "        (function() {\n",
       "          const frame = document.getElementById(\"tensorboard-frame-1fe555053950a526\");\n",
       "          const url = new URL(\"/\", window.location);\n",
       "          const port = 6006;\n",
       "          if (port) {\n",
       "            url.port = port;\n",
       "          }\n",
       "          frame.src = url;\n",
       "        })();\n",
       "      </script>\n",
       "    "
      ],
      "text/plain": [
       "<IPython.core.display.HTML object>"
      ]
     },
     "metadata": {},
     "output_type": "display_data"
    }
   ],
   "source": [
    "%load_ext tensorboard\n",
    "%tensorboard --logdir=\"C:\\Users\\smile\\Desktop\\ASSIGNMENTS\\ABHISHEK SVM\\drive-download-20210529T063331Z-001\\logs_Model2\\log\""
   ]
  },
  {
   "cell_type": "markdown",
   "metadata": {},
   "source": [
    "## epoch_accuracy\n",
    "1.For train data, epoch accuracy increses from 0.0607 at epoch 1 to 0.2268 at epoch 10.\n",
    "\n",
    "2.For validation data,epoch accuracy is around 0.08.\n",
    "\n",
    "## epoch_f1_m\n",
    "1.For train data, epoch f1 score varies from 0 at epoch 1 to 0.1715 at epoch 10.\n",
    "\n",
    "2.For validation data,epoch f1 score decreses from 0 at epoch 1 to 0.0228 at epoch 10.\n",
    "\n",
    "## epoch_loss\n",
    "1.For train data, epoch loss is decreses from 2.9869 at epoch 1 to 2.4836 at epoch 10.\n",
    "\n",
    "2.For validation data,epoch loss is varing from 2.9752 to 3.27 .\n",
    "\n",
    "# Histogram\n",
    "1.The weights of each conv and dense layer are not normaly distributed and almost zero centered."
   ]
  },
  {
   "cell_type": "code",
   "execution_count": 99,
   "metadata": {},
   "outputs": [
    {
     "data": {
      "image/png": "[encoded data removed]",
      "text/plain": [
       "<IPython.core.display.Image object>"
      ]
     },
     "execution_count": 99,
     "metadata": {},
     "output_type": "execute_result"
    }
   ],
   "source": [
    "from IPython.display import Image\n",
    "Image('C://Users//smile//Desktop//ASSIGNMENTS//ABHISHEK SVM//drive-download-20210529T063331Z-001//model_2.png')"
   ]
  },
  {
   "cell_type": "code",
   "execution_count": null,
   "metadata": {},
   "outputs": [],
   "source": []
  }
 ],
 "metadata": {
  "colab": {
   "collapsed_sections": [],
   "name": "Text Classification Assignment.ipynb",
   "provenance": []
  },
  "kernelspec": {
   "display_name": "Python 3",
   "language": "python",
   "name": "python3"
  },
  "language_info": {
   "codemirror_mode": {
    "name": "ipython",
    "version": 3
   },
   "file_extension": ".py",
   "mimetype": "text/x-python",
   "name": "python",
   "nbconvert_exporter": "python",
   "pygments_lexer": "ipython3",
   "version": "3.8.3"
  }
 },
 "nbformat": 4,
 "nbformat_minor": 1
}
