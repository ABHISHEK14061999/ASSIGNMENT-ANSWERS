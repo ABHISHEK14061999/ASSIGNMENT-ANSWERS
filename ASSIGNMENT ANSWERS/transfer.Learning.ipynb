{
  "nbformat": 4,
  "nbformat_minor": 0,
  "metadata": {
    "accelerator": "GPU",
    "colab": {
      "name": "Copy of Transfer_LearningWT.ipynb",
      "provenance": [],
      "collapsed_sections": []
    },
    "kernelspec": {
      "display_name": "Python 3",
      "language": "python",
      "name": "python3"
    },
    "language_info": {
      "codemirror_mode": {
        "name": "ipython",
        "version": 3
      },
      "file_extension": ".py",
      "mimetype": "text/x-python",
      "name": "python",
      "nbconvert_exporter": "python",
      "pygments_lexer": "ipython3",
      "version": "3.8.3"
    }
  },
  "cells": [
    {
      "cell_type": "markdown",
      "metadata": {
        "id": "_0zs3TflcAEr"
      },
      "source": [
        "<pre>\n",
        "1. Download all the data in this folder https://drive.google.com/open?id=1Z4TyI7FcFVEx8qdl4jO9qxvxaqLSqoEu. it contains two file both images and labels. The label file list the images and their categories in the following format:\n",
        "            <b>path/to/the/image.tif,category</b>\n",
        "            \n",
        "    where the categories are numbered 0 to 15, in the following order:\n",
        "\n",
        "    <b>0 letter\n",
        "    1 form\n",
        "    2 email\n",
        "    3 handwritten\n",
        "    4 advertisement\n",
        "    5 scientific report\n",
        "    6 scientific publication\n",
        "    7 specification\n",
        "    8 file folder\n",
        "    9 news article\n",
        "    10 budget\n",
        "    11 invoice\n",
        "    12 presentation\n",
        "    13 questionnaire\n",
        "    14 resume\n",
        "    15 memo</b>\n",
        "    \n",
        "2. On this image data, you have to train 3 types of models as given below. You have to split the data into Train and Validation data.\n",
        "\n",
        "3. Try not to load all the images into memory, use the gernarators that we have given the reference notebooks to load the batch of images only during the train data.\n",
        "or you can use this method also\n",
        "<a href='https://medium.com/@vijayabhaskar96/tutorial-on-keras-imagedatagenerator-with-flow-from-dataframe-8bd5776e45c1'>https://medium.com/@vijayabhaskar96/tutorial-on-keras-imagedatagenerator-with-flow-from-dataframe-8bd5776e45c1</a>\n",
        "\n",
        "<a href='https://medium.com/@vijayabhaskar96/tutorial-on-keras-flow-from-dataframe-1fd4493d237c'>https://medium.com/@vijayabhaskar96/tutorial-on-keras-flow-from-dataframe-1fd4493d237c</a>\n",
        "\n",
        "\n",
        "4. You are free to choose Learning rate, optimizer, loss function, image augmentation, any hyperparameters. but you have to use the same architechture what we are asking below. \n",
        "\n",
        "5. Use tensorboard for every model and analyse your gradients. (you need to upload the screenshots for each model for evaluation)\n",
        "\n",
        "Note: fit_genarator() method will have problems with the tensorboard histograms, try to debug it, if you could not do use histgrams=0 i.e don't include histograms, check the documentation of tensorboard for more information. \n",
        "\n",
        "6. You can check about Transfer Learning in this link - <a href='https://blog.keras.io/building-powerful-image-classification-models-using-very-little-data.html'>https://blog.keras.io/building-powerful-image-classification-models-using-very-little-data.html</a>\n",
        "</pre>"
      ]
    },
    {
      "cell_type": "markdown",
      "metadata": {
        "id": "XZXpEZtJcAEu"
      },
      "source": [
        "### Model-1"
      ]
    },
    {
      "cell_type": "markdown",
      "metadata": {
        "id": "De0UlsaOcAE1"
      },
      "source": [
        "### Model-2"
      ]
    },
    {
      "cell_type": "markdown",
      "metadata": {
        "id": "amKbfojfcAE-"
      },
      "source": [
        "### Model-3"
      ]
    },
    {
      "cell_type": "code",
      "metadata": {
        "id": "EsSl-PcDtEhv"
      },
      "source": [
        "import tensorflow as tf\n",
        "import os\n",
        "import numpy as np\n",
        "import pandas as pd"
      ],
      "execution_count": 1,
      "outputs": []
    },
    {
      "cell_type": "code",
      "metadata": {
        "id": "QOWb0OFStNaW"
      },
      "source": [
        "from tensorflow.keras.layers import Dense,Input,Conv2D,MaxPool2D,Activation,Dropout,Flatten,GlobalAveragePooling2D\n",
        "from tensorflow.keras.models import Model\n",
        "import random as rn"
      ],
      "execution_count": 2,
      "outputs": []
    },
    {
      "cell_type": "code",
      "metadata": {
        "id": "c7zXUWhVtPoc",
        "colab": {
          "base_uri": "https://localhost:8080/"
        },
        "outputId": "9863bc56-f64a-423d-96a4-45a6548e1d0d"
      },
      "source": [
        "!gdown --id 17ANHLcy5u456qmQyf0eA4GonSsGNc_1c\n",
        "\n",
        "\n",
        "get_ipython().system_raw(\"unrar x rvl-cdip.rar\")"
      ],
      "execution_count": 3,
      "outputs": [
        {
          "output_type": "stream",
          "text": [
            "Downloading...\n",
            "From: https://drive.google.com/uc?id=17ANHLcy5u456qmQyf0eA4GonSsGNc_1c\n",
            "To: /content/rvl-cdip.rar\n",
            "4.66GB [01:26, 54.0MB/s]\n"
          ],
          "name": "stdout"
        }
      ]
    },
    {
      "cell_type": "code",
      "metadata": {
        "colab": {
          "base_uri": "https://localhost:8080/"
        },
        "id": "4uduTvRLtOFg",
        "outputId": "609bc7e2-aa2c-4628-9218-d98905f53a8c"
      },
      "source": [
        "os.listdir()"
      ],
      "execution_count": 4,
      "outputs": [
        {
          "output_type": "execute_result",
          "data": {
            "text/plain": [
              "['.config', 'data_final', 'rvl-cdip.rar', 'labels_final.csv', 'sample_data']"
            ]
          },
          "metadata": {
            "tags": []
          },
          "execution_count": 4
        }
      ]
    },
    {
      "cell_type": "code",
      "metadata": {
        "id": "JxSBiakW8D6O"
      },
      "source": [
        "import pandas as pd\n",
        "\n",
        "data = pd.read_csv('labels_final.csv') #reading the csv file"
      ],
      "execution_count": 5,
      "outputs": []
    },
    {
      "cell_type": "code",
      "metadata": {
        "colab": {
          "base_uri": "https://localhost:8080/",
          "height": 195
        },
        "id": "9wHMY8lO8Ghv",
        "outputId": "2c82a0ca-8d4b-47bf-be59-569bc05db078"
      },
      "source": [
        "data.head()"
      ],
      "execution_count": 6,
      "outputs": [
        {
          "output_type": "execute_result",
          "data": {
            "text/html": [
              "<div>\n",
              "<style scoped>\n",
              "    .dataframe tbody tr th:only-of-type {\n",
              "        vertical-align: middle;\n",
              "    }\n",
              "\n",
              "    .dataframe tbody tr th {\n",
              "        vertical-align: top;\n",
              "    }\n",
              "\n",
              "    .dataframe thead th {\n",
              "        text-align: right;\n",
              "    }\n",
              "</style>\n",
              "<table border=\"1\" class=\"dataframe\">\n",
              "  <thead>\n",
              "    <tr style=\"text-align: right;\">\n",
              "      <th></th>\n",
              "      <th>path</th>\n",
              "      <th>label</th>\n",
              "    </tr>\n",
              "  </thead>\n",
              "  <tbody>\n",
              "    <tr>\n",
              "      <th>0</th>\n",
              "      <td>imagesv/v/o/h/voh71d00/509132755+-2755.tif</td>\n",
              "      <td>3</td>\n",
              "    </tr>\n",
              "    <tr>\n",
              "      <th>1</th>\n",
              "      <td>imagesl/l/x/t/lxt19d00/502213303.tif</td>\n",
              "      <td>3</td>\n",
              "    </tr>\n",
              "    <tr>\n",
              "      <th>2</th>\n",
              "      <td>imagesx/x/e/d/xed05a00/2075325674.tif</td>\n",
              "      <td>2</td>\n",
              "    </tr>\n",
              "    <tr>\n",
              "      <th>3</th>\n",
              "      <td>imageso/o/j/b/ojb60d00/517511301+-1301.tif</td>\n",
              "      <td>3</td>\n",
              "    </tr>\n",
              "    <tr>\n",
              "      <th>4</th>\n",
              "      <td>imagesq/q/z/k/qzk17e00/2031320195.tif</td>\n",
              "      <td>7</td>\n",
              "    </tr>\n",
              "  </tbody>\n",
              "</table>\n",
              "</div>"
            ],
            "text/plain": [
              "                                         path  label\n",
              "0  imagesv/v/o/h/voh71d00/509132755+-2755.tif      3\n",
              "1        imagesl/l/x/t/lxt19d00/502213303.tif      3\n",
              "2       imagesx/x/e/d/xed05a00/2075325674.tif      2\n",
              "3  imageso/o/j/b/ojb60d00/517511301+-1301.tif      3\n",
              "4       imagesq/q/z/k/qzk17e00/2031320195.tif      7"
            ]
          },
          "metadata": {
            "tags": []
          },
          "execution_count": 6
        }
      ]
    },
    {
      "cell_type": "code",
      "metadata": {
        "id": "-oe0-nwm97zm"
      },
      "source": [
        "from sklearn.model_selection import train_test_split\n",
        "\n",
        "\n",
        "#traindf, validationdf = train_test_split(data, test_size=0.3, random_state=42,shuffle=True)\n",
        "\n",
        "train_path, validation_path, train_label, validation_label = train_test_split(data['path'], data['label'], test_size=0.2, random_state=42)"
      ],
      "execution_count": 7,
      "outputs": []
    },
    {
      "cell_type": "code",
      "metadata": {
        "id": "rqSM1T9k8Kbl"
      },
      "source": [
        "labels_dict = { 0 : 'letter',1: 'form',2: 'email',3 :'handwritten',4 :'advertisement',\n",
        "                5 : 'scientific report',6 : 'scientific publication',7 :'specification',8 : 'file folder',\n",
        "                9 : 'news article', 10 : 'budget', 11 : 'invoice',12 : 'presentation',\n",
        "               13 : 'questionnaire', 14 : 'resume', 15 : 'memo'}"
      ],
      "execution_count": 8,
      "outputs": []
    },
    {
      "cell_type": "code",
      "metadata": {
        "colab": {
          "base_uri": "https://localhost:8080/"
        },
        "id": "89um3Wx1VhIq",
        "outputId": "ffd9829d-aa20-49ef-afd4-88ff056457d6"
      },
      "source": [
        "labels_dict.values()"
      ],
      "execution_count": 9,
      "outputs": [
        {
          "output_type": "execute_result",
          "data": {
            "text/plain": [
              "dict_values(['letter', 'form', 'email', 'handwritten', 'advertisement', 'scientific report', 'scientific publication', 'specification', 'file folder', 'news article', 'budget', 'invoice', 'presentation', 'questionnaire', 'resume', 'memo'])"
            ]
          },
          "metadata": {
            "tags": []
          },
          "execution_count": 9
        }
      ]
    },
    {
      "cell_type": "code",
      "metadata": {
        "id": "mXG31DU1AOaq"
      },
      "source": [
        "for subfolder_name in list(labels_dict.values()):\n",
        "    os.makedirs(os.path.join('train_images', subfolder_name))"
      ],
      "execution_count": 10,
      "outputs": []
    },
    {
      "cell_type": "code",
      "metadata": {
        "colab": {
          "base_uri": "https://localhost:8080/"
        },
        "id": "KDLTiZLxMiE9",
        "outputId": "0657408c-4ea2-47a6-c5be-072c02000acb"
      },
      "source": [
        "os.listdir('train_images')"
      ],
      "execution_count": 11,
      "outputs": [
        {
          "output_type": "execute_result",
          "data": {
            "text/plain": [
              "['budget',\n",
              " 'questionnaire',\n",
              " 'invoice',\n",
              " 'handwritten',\n",
              " 'scientific publication',\n",
              " 'form',\n",
              " 'resume',\n",
              " 'memo',\n",
              " 'presentation',\n",
              " 'letter',\n",
              " 'advertisement',\n",
              " 'file folder',\n",
              " 'email',\n",
              " 'scientific report',\n",
              " 'specification',\n",
              " 'news article']"
            ]
          },
          "metadata": {
            "tags": []
          },
          "execution_count": 11
        }
      ]
    },
    {
      "cell_type": "code",
      "metadata": {
        "colab": {
          "base_uri": "https://localhost:8080/"
        },
        "id": "bG-StjG-MlvY",
        "outputId": "549018f5-707c-4c78-ae0b-2517d26dc9ef"
      },
      "source": [
        "#https://thispointer.com/python-how-to-copy-files-from-one-location-to-another-using-shutil-copy/\n",
        "import shutil\n",
        "from tqdm import tqdm\n",
        "for file, label in tqdm(zip(train_path, train_label)):\n",
        "  shutil.copy('data_final/'+file,'train_images/'+labels_dict[label]+'/')\n"
      ],
      "execution_count": 12,
      "outputs": [
        {
          "output_type": "stream",
          "text": [
            "38400it [02:10, 295.13it/s]\n"
          ],
          "name": "stderr"
        }
      ]
    },
    {
      "cell_type": "code",
      "metadata": {
        "id": "YZbpkzxlcDJn"
      },
      "source": [
        "for subfolder_name in list(labels_dict.values()):\n",
        "    os.makedirs(os.path.join('validation_images', subfolder_name))"
      ],
      "execution_count": 13,
      "outputs": []
    },
    {
      "cell_type": "code",
      "metadata": {
        "colab": {
          "base_uri": "https://localhost:8080/"
        },
        "id": "KXZNc1RocaHp",
        "outputId": "0435fc48-5a40-487b-f145-f30f8b7df359"
      },
      "source": [
        "for file, label in tqdm(zip(validation_path, validation_label)):\n",
        "    shutil.copy('data_final/'+file ,'validation_images/'+labels_dict[label]+'/')"
      ],
      "execution_count": 14,
      "outputs": [
        {
          "output_type": "stream",
          "text": [
            "9600it [00:34, 276.26it/s]\n"
          ],
          "name": "stderr"
        }
      ]
    },
    {
      "cell_type": "code",
      "metadata": {
        "colab": {
          "base_uri": "https://localhost:8080/"
        },
        "id": "2o-SSha2ZTL1",
        "outputId": "0b6d0939-c08a-48ae-b2b0-a457396574f0"
      },
      "source": [
        "dir_path= 'train_images'\n",
        "for i in os.listdir(dir_path):\n",
        "    print(\"No of Images in \",i,\" category is \",len(os.listdir(os.path.join(dir_path,i))))"
      ],
      "execution_count": 15,
      "outputs": [
        {
          "output_type": "stream",
          "text": [
            "No of Images in  budget  category is  2422\n",
            "No of Images in  questionnaire  category is  2395\n",
            "No of Images in  invoice  category is  2397\n",
            "No of Images in  handwritten  category is  2413\n",
            "No of Images in  scientific publication  category is  2373\n",
            "No of Images in  form  category is  2407\n",
            "No of Images in  resume  category is  2415\n",
            "No of Images in  memo  category is  2401\n",
            "No of Images in  presentation  category is  2428\n",
            "No of Images in  letter  category is  2461\n",
            "No of Images in  advertisement  category is  2393\n",
            "No of Images in  file folder  category is  2351\n",
            "No of Images in  email  category is  2379\n",
            "No of Images in  scientific report  category is  2379\n",
            "No of Images in  specification  category is  2391\n",
            "No of Images in  news article  category is  2392\n"
          ],
          "name": "stdout"
        }
      ]
    },
    {
      "cell_type": "code",
      "metadata": {
        "colab": {
          "base_uri": "https://localhost:8080/"
        },
        "id": "1KeI9kalb7BX",
        "outputId": "f62562e2-675d-4749-d96a-e2e9b7cd8dcd"
      },
      "source": [
        "dir_path= 'validation_images'\n",
        "for i in os.listdir(dir_path):\n",
        "    print(\"No of Images in \",i,\" category is \",len(os.listdir(os.path.join(dir_path,i))))"
      ],
      "execution_count": 16,
      "outputs": [
        {
          "output_type": "stream",
          "text": [
            "No of Images in  budget  category is  580\n",
            "No of Images in  questionnaire  category is  612\n",
            "No of Images in  invoice  category is  595\n",
            "No of Images in  handwritten  category is  592\n",
            "No of Images in  scientific publication  category is  612\n",
            "No of Images in  form  category is  587\n",
            "No of Images in  resume  category is  590\n",
            "No of Images in  memo  category is  595\n",
            "No of Images in  presentation  category is  578\n",
            "No of Images in  letter  category is  554\n",
            "No of Images in  advertisement  category is  601\n",
            "No of Images in  file folder  category is  652\n",
            "No of Images in  email  category is  614\n",
            "No of Images in  scientific report  category is  620\n",
            "No of Images in  specification  category is  609\n",
            "No of Images in  news article  category is  609\n"
          ],
          "name": "stdout"
        }
      ]
    },
    {
      "cell_type": "code",
      "metadata": {
        "colab": {
          "base_uri": "https://localhost:8080/"
        },
        "id": "Ow7rZoHkdovA",
        "outputId": "805eac01-9f3c-4a13-82ab-1a7ba1c0236a"
      },
      "source": [
        "dir_path= 'train_images'\n",
        "ImageFlow = tf.keras.preprocessing.image.ImageDataGenerator()\n",
        "ImageGenerator_train = ImageFlow.flow_from_directory(dir_path,target_size=(224,224),seed=10,batch_size=32)"
      ],
      "execution_count": 17,
      "outputs": [
        {
          "output_type": "stream",
          "text": [
            "Found 38397 images belonging to 16 classes.\n"
          ],
          "name": "stdout"
        }
      ]
    },
    {
      "cell_type": "code",
      "metadata": {
        "colab": {
          "base_uri": "https://localhost:8080/"
        },
        "id": "iBWs22iMglfg",
        "outputId": "ee760369-dfa5-47d1-c552-6014d128cbdf"
      },
      "source": [
        "dir_path='validation_images'\n",
        "ImageGenerator_validation = ImageFlow.flow_from_directory(dir_path,target_size=(224,224),seed=10,batch_size=32)"
      ],
      "execution_count": 18,
      "outputs": [
        {
          "output_type": "stream",
          "text": [
            "Found 9600 images belonging to 16 classes.\n"
          ],
          "name": "stdout"
        }
      ]
    },
    {
      "cell_type": "code",
      "metadata": {
        "colab": {
          "base_uri": "https://localhost:8080/"
        },
        "id": "4QkArLK69ebq",
        "outputId": "b8ad7f28-4ae1-41de-b53c-609607c59e28"
      },
      "source": [
        "##Checking time taken to load images. \n",
        "import time\n",
        "start = time.time()\n",
        "total_batches = 0\n",
        "\n",
        "batches = 0\n",
        "per_batch = 32\n",
        "for x_batch, y_batch in ImageGenerator_train:\n",
        "    batches += 1\n",
        "    if batches >= 6899/per_batch:\n",
        "        total_batches = total_batches + batches\n",
        "        break \n",
        "end = time.time()\n",
        "duration = end-start\n",
        "print(\"{} batches: {} s\".format(total_batches, duration))\n",
        "print(\"{:0.5f} Images/s\".format(per_batch*total_batches/duration))"
      ],
      "execution_count": 19,
      "outputs": [
        {
          "output_type": "stream",
          "text": [
            "216 batches: 33.28741669654846 s\n",
            "207.64603 Images/s\n"
          ],
          "name": "stdout"
        }
      ]
    },
    {
      "cell_type": "markdown",
      "metadata": {
        "id": "EF12MYu1cAEy"
      },
      "source": [
        "<pre>\n",
        "1. Use <a href='https://www.tensorflow.org/api_docs/python/tf/keras/applications/VGG16'>VGG-16</a> pretrained network without Fully Connected layers and initilize all the weights with Imagenet trained weights. \n",
        "2. After VGG-16 network without FC layers, add a new Conv block ( 1 Conv layer and 1 Maxpooling ), 2 FC layers and a output layer to classify 16 classes. You are free to choose any hyperparameters/parameters of conv block, FC layers, output layer. \n",
        "3. Final architecture will be <b>INPUT --> VGG-16 without Top layers(FC) --> Conv Layer --> Maxpool Layer --> 2 FC layers --> Output Layer</b>\n",
        "4. Train only new Conv block, FC layers, output layer. Don't train the VGG-16 network. \n",
        "\n",
        "</pre>"
      ]
    },
    {
      "cell_type": "code",
      "metadata": {
        "colab": {
          "base_uri": "https://localhost:8080/"
        },
        "id": "DlI2FH259efQ",
        "outputId": "96c14176-5425-437a-b9ca-673960a0c735"
      },
      "source": [
        "import os\n",
        "os.environ['PYTHONHASHSEED'] = '0'\n",
        "\n",
        "##https://keras.io/getting-started/faq/#how-can-i-obtain-reproducible-results-using-keras-during-development\n",
        "## Have to clear the session. If you are not clearing, Graph will create again and again and graph size will increses. \n",
        "## Varibles will also set to some value from before session\n",
        "tf.keras.backend.clear_session()\n",
        "\n",
        "## Set the random seed values to regenerate the model.\n",
        "np.random.seed(0)\n",
        "rn.seed(0)\n",
        "\n",
        "\n",
        "#VGG-16\n",
        "base_model=tf.keras.applications.VGG16(weights='imagenet', include_top=False,input_shape=(224,224,3))\n",
        "\n",
        "\n",
        "# add a global spatial average pooling layer\n",
        "x=base_model.output\n",
        "\n",
        "#print(x)\n",
        "\n",
        "# first: train only the top layers (which were randomly initialized)\n",
        "# i.e. freeze all convolutional InceptionV3 layers\n",
        "for layer in base_model.layers:\n",
        "     layer.trainable = False\n",
        "\n",
        "#base_model.trainable=False\n",
        "\n",
        "#Conv Layer\n",
        "Conv1 = Conv2D(filters=32,kernel_size=(3,3),strides=(1,1),padding='valid',data_format='channels_last',\n",
        "              activation='relu',kernel_initializer=tf.keras.initializers.he_normal(seed=0),name='Conv1')(x)\n",
        "#MaxPool Layer\n",
        "Pool1 = MaxPool2D(pool_size=(2,2),strides=(2,2),padding='valid',data_format='channels_last',name='Pool1')(Conv1)\n",
        "\n",
        "flatten = Flatten(data_format='channels_last',name='Flatten')(Pool1)\n",
        "\n",
        "#FC layer\n",
        "FC1 = Dense(units=64,activation='relu',kernel_initializer=tf.keras.initializers.glorot_normal(seed=32),name='FC1')(flatten)\n",
        "\n",
        "#FC layer\n",
        "FC2 = Dense(units=32,activation='relu',kernel_initializer=tf.keras.initializers.glorot_normal(seed=33),name='FC2')(FC1)\n",
        "\n",
        "#output layer\n",
        "Out = Dense(units=16,activation='softmax',kernel_initializer=tf.keras.initializers.glorot_normal(seed=3),name='Output')(FC2)\n",
        "\n",
        "#Creating a model\n",
        "model_1 = Model(inputs=base_model.input,outputs=Out)"
      ],
      "execution_count": 20,
      "outputs": [
        {
          "output_type": "stream",
          "text": [
            "Downloading data from https://storage.googleapis.com/tensorflow/keras-applications/vgg16/vgg16_weights_tf_dim_ordering_tf_kernels_notop.h5\n",
            "58892288/58889256 [==============================] - 0s 0us/step\n"
          ],
          "name": "stdout"
        }
      ]
    },
    {
      "cell_type": "code",
      "metadata": {
        "colab": {
          "base_uri": "https://localhost:8080/"
        },
        "id": "nXaPUSBhtOIz",
        "outputId": "d99c5aaf-7828-40b2-fd58-9722b44b522d"
      },
      "source": [
        "model_1.summary()"
      ],
      "execution_count": 21,
      "outputs": [
        {
          "output_type": "stream",
          "text": [
            "Model: \"model\"\n",
            "_________________________________________________________________\n",
            "Layer (type)                 Output Shape              Param #   \n",
            "=================================================================\n",
            "input_1 (InputLayer)         [(None, 224, 224, 3)]     0         \n",
            "_________________________________________________________________\n",
            "block1_conv1 (Conv2D)        (None, 224, 224, 64)      1792      \n",
            "_________________________________________________________________\n",
            "block1_conv2 (Conv2D)        (None, 224, 224, 64)      36928     \n",
            "_________________________________________________________________\n",
            "block1_pool (MaxPooling2D)   (None, 112, 112, 64)      0         \n",
            "_________________________________________________________________\n",
            "block2_conv1 (Conv2D)        (None, 112, 112, 128)     73856     \n",
            "_________________________________________________________________\n",
            "block2_conv2 (Conv2D)        (None, 112, 112, 128)     147584    \n",
            "_________________________________________________________________\n",
            "block2_pool (MaxPooling2D)   (None, 56, 56, 128)       0         \n",
            "_________________________________________________________________\n",
            "block3_conv1 (Conv2D)        (None, 56, 56, 256)       295168    \n",
            "_________________________________________________________________\n",
            "block3_conv2 (Conv2D)        (None, 56, 56, 256)       590080    \n",
            "_________________________________________________________________\n",
            "block3_conv3 (Conv2D)        (None, 56, 56, 256)       590080    \n",
            "_________________________________________________________________\n",
            "block3_pool (MaxPooling2D)   (None, 28, 28, 256)       0         \n",
            "_________________________________________________________________\n",
            "block4_conv1 (Conv2D)        (None, 28, 28, 512)       1180160   \n",
            "_________________________________________________________________\n",
            "block4_conv2 (Conv2D)        (None, 28, 28, 512)       2359808   \n",
            "_________________________________________________________________\n",
            "block4_conv3 (Conv2D)        (None, 28, 28, 512)       2359808   \n",
            "_________________________________________________________________\n",
            "block4_pool (MaxPooling2D)   (None, 14, 14, 512)       0         \n",
            "_________________________________________________________________\n",
            "block5_conv1 (Conv2D)        (None, 14, 14, 512)       2359808   \n",
            "_________________________________________________________________\n",
            "block5_conv2 (Conv2D)        (None, 14, 14, 512)       2359808   \n",
            "_________________________________________________________________\n",
            "block5_conv3 (Conv2D)        (None, 14, 14, 512)       2359808   \n",
            "_________________________________________________________________\n",
            "block5_pool (MaxPooling2D)   (None, 7, 7, 512)         0         \n",
            "_________________________________________________________________\n",
            "Conv1 (Conv2D)               (None, 5, 5, 32)          147488    \n",
            "_________________________________________________________________\n",
            "Pool1 (MaxPooling2D)         (None, 2, 2, 32)          0         \n",
            "_________________________________________________________________\n",
            "Flatten (Flatten)            (None, 128)               0         \n",
            "_________________________________________________________________\n",
            "FC1 (Dense)                  (None, 64)                8256      \n",
            "_________________________________________________________________\n",
            "FC2 (Dense)                  (None, 32)                2080      \n",
            "_________________________________________________________________\n",
            "Output (Dense)               (None, 16)                528       \n",
            "=================================================================\n",
            "Total params: 14,873,040\n",
            "Trainable params: 158,352\n",
            "Non-trainable params: 14,714,688\n",
            "_________________________________________________________________\n"
          ],
          "name": "stdout"
        }
      ]
    },
    {
      "cell_type": "code",
      "metadata": {
        "id": "SVBCSzkAtONM"
      },
      "source": [
        "model_1.compile(optimizer='rmsprop', loss='categorical_crossentropy',metrics=[\"accuracy\"])\n",
        "\n",
        "\n"
      ],
      "execution_count": 22,
      "outputs": []
    },
    {
      "cell_type": "code",
      "metadata": {
        "colab": {
          "base_uri": "https://localhost:8080/"
        },
        "id": "ztOElzQrY2k-",
        "outputId": "b0c2bbd2-5bfb-43dd-88b2-0fb6a36a09e4"
      },
      "source": [
        "history=model_1.fit(ImageGenerator_train,\n",
        "                    validation_data=ImageGenerator_validation,epochs=3,steps_per_epoch=len(ImageGenerator_train),validation_steps=len(ImageGenerator_validation))"
      ],
      "execution_count": 23,
      "outputs": [
        {
          "output_type": "stream",
          "text": [
            "Epoch 1/3\n",
            "1200/1200 [==============================] - 295s 214ms/step - loss: 2.1933 - accuracy: 0.3788 - val_loss: 1.5832 - val_accuracy: 0.5326\n",
            "Epoch 2/3\n",
            "1200/1200 [==============================] - 241s 201ms/step - loss: 1.4165 - accuracy: 0.5627 - val_loss: 1.4256 - val_accuracy: 0.5675\n",
            "Epoch 3/3\n",
            "1200/1200 [==============================] - 219s 182ms/step - loss: 1.2580 - accuracy: 0.6159 - val_loss: 1.4526 - val_accuracy: 0.5927\n"
          ],
          "name": "stdout"
        }
      ]
    },
    {
      "cell_type": "code",
      "metadata": {
        "colab": {
          "base_uri": "https://localhost:8080/"
        },
        "id": "98lHrGtKD9m6",
        "outputId": "dde2e2ca-2cf9-4603-c96c-edd26cdf2ff1"
      },
      "source": [
        "history.history"
      ],
      "execution_count": 24,
      "outputs": [
        {
          "output_type": "execute_result",
          "data": {
            "text/plain": [
              "{'accuracy': [0.4603484570980072, 0.5682735443115234, 0.6168450713157654],\n",
              " 'loss': [1.7938886880874634, 1.4112037420272827, 1.271973967552185],\n",
              " 'val_accuracy': [0.5326041579246521, 0.5674999952316284, 0.5927083492279053],\n",
              " 'val_loss': [1.5831743478775024, 1.425573706626892, 1.4526430368423462]}"
            ]
          },
          "metadata": {
            "tags": []
          },
          "execution_count": 24
        }
      ]
    },
    {
      "cell_type": "code",
      "metadata": {
        "id": "M7SntA_vXHog"
      },
      "source": [
        "from keras.preprocessing.image import ImageDataGenerator\n"
      ],
      "execution_count": 25,
      "outputs": []
    },
    {
      "cell_type": "code",
      "metadata": {
        "id": "xZLXpd6mW7kH"
      },
      "source": [
        "df=pd.read_csv('./labels_final.csv',dtype=str)\n",
        "traindf, validationdf = train_test_split(df, test_size=0.3, random_state=42,shuffle=True)\n"
      ],
      "execution_count": 26,
      "outputs": []
    },
    {
      "cell_type": "code",
      "metadata": {
        "id": "2hx93Ky5gvbk",
        "colab": {
          "base_uri": "https://localhost:8080/"
        },
        "outputId": "b8be47a2-65c7-426a-e5cd-897f5a67b4bd"
      },
      "source": [
        "datagen=ImageDataGenerator(rescale=1./255.)\n",
        "\n",
        "train_generator=datagen.flow_from_dataframe(dataframe=traindf,directory='./train_images/',x_col=\"path\",\n",
        "y_col=\"label\",batch_size=32,seed=42,shuffle=False,class_mode=\"categorical\",target_size=(224,224,3),subset='training')\n",
        "\n",
        "valid_generator=datagen.flow_from_dataframe(dataframe=traindf,directory='./validation_images/',x_col=\"path\",\n",
        "y_col=\"label\",batch_size=32,seed=42,shuffle=False,class_mode=\"categorical\",target_size=(224,224,3),subset='validation')\n",
        "  \n",
        "# Define your model\n",
        "\n",
        "# model.compile(optimizer='adam', loss=......, metrics=[\"accuracy\"])\n",
        "\n",
        "# model.fit(train_generator,validation_data=validation_generator,epochs=10,steps_per_epoch=len(train_generator),validation_steps=len(validation_generator))\n"
      ],
      "execution_count": 27,
      "outputs": [
        {
          "output_type": "stream",
          "text": [
            "/usr/local/lib/python3.7/dist-packages/keras_preprocessing/image/dataframe_iterator.py:282: UserWarning: Found 33600 invalid image filename(s) in x_col=\"path\". These filename(s) will be ignored.\n",
            "  .format(n_invalid, x_col)\n"
          ],
          "name": "stderr"
        },
        {
          "output_type": "stream",
          "text": [
            "Found 0 validated image filenames belonging to 0 classes.\n",
            "Found 0 validated image filenames belonging to 0 classes.\n"
          ],
          "name": "stdout"
        },
        {
          "output_type": "stream",
          "text": [
            "/usr/local/lib/python3.7/dist-packages/keras_preprocessing/image/dataframe_iterator.py:282: UserWarning: Found 33600 invalid image filename(s) in x_col=\"path\". These filename(s) will be ignored.\n",
            "  .format(n_invalid, x_col)\n"
          ],
          "name": "stderr"
        }
      ]
    },
    {
      "cell_type": "markdown",
      "metadata": {
        "id": "CNXN3EXFcAE5"
      },
      "source": [
        "<pre>\n",
        "1. Use <a href='https://www.tensorflow.org/api_docs/python/tf/keras/applications/VGG16'>VGG-16</a> pretrained network without Fully Connected layers and initilize all the weights with Imagenet trained weights.\n",
        "2. After VGG-16 network without FC layers, don't use FC layers, use conv layers only as Fully connected layer. any FC layer can be converted to a CONV layer. This conversion will reduce the No of Trainable parameters in FC layers. For example, an FC layer with K=4096 that is looking at some input volume of size 7×7×512 can be equivalently expressed as a CONV layer with F=7,P=0,S=1,K=4096. In other words, we are setting the filter size to be exactly the size of the input volume, and hence the output will simply be 1×1×4096 since only a single depth column “fits” across the input volume, giving identical result as the initial FC layer. You can refer <a href='http://cs231n.github.io/convolutional-networks/#convert'>this</a> link to better understanding of using Conv layer in place of fully connected layers.\n",
        "3. Final architecture will be VGG-16 without FC layers(without top), 2 Conv layers identical to FC layers, 1 output layer for 16 class classification. <b>INPUT --> VGG-16 without Top layers(FC) --> 2 Conv Layers identical to FC --> Output Layer</b>\n",
        "3. Train only last 2 Conv layers identical to FC layers, 1 output layer. Don't train the VGG-16 network. \n",
        "</pre>"
      ]
    },
    {
      "cell_type": "code",
      "metadata": {
        "colab": {
          "base_uri": "https://localhost:8080/"
        },
        "id": "CI1t59J-ML5i",
        "outputId": "dc689d9b-ef34-48d9-e685-80ce0c234e01"
      },
      "source": [
        "import os\n",
        "os.environ['PYTHONHASHSEED'] = '0'\n",
        "\n",
        "\n",
        "tf.keras.backend.clear_session()\n",
        "\n",
        "## Set the random seed values to regenerate the model.\n",
        "np.random.seed(0)\n",
        "rn.seed(0)\n",
        "\n",
        "\n",
        "#VGG-16\n",
        "base_model_2=tf.keras.applications.VGG16(weights='imagenet', include_top=False,input_shape=(224,224,3))\n",
        "print(base_model_2.input)\n",
        "\n",
        "# add a global spatial average pooling layer\n",
        "x=base_model_2.output\n",
        "\n",
        "for layer in base_model_2.layers:\n",
        "     layer.trainable = False\n",
        "\n",
        "\n",
        "\n",
        "\n",
        "Conv1 = Conv2D(4096,kernel_size=[7,7],strides=(1,1),padding='valid', activation='relu',name='Conv1')(x)\n",
        "\n",
        "Conv2 = Conv2D(4096,kernel_size=[1,1],strides=(1,1),padding='valid',data_format='channels_last', \n",
        "               activation='relu',kernel_initializer=tf.keras.initializers.he_normal(seed=0),name='Conv2')(Conv1)\n",
        "\n",
        "flatten = Flatten(data_format='channels_last',name='Flatten')(Conv2)\n",
        "output = Dense(units=16,activation='softmax',kernel_initializer=tf.keras.initializers.glorot_normal(seed=3),name='Output')(flatten)\n",
        "\n",
        "# #Creating a model\n",
        "model_2 = Model(inputs=base_model_2.input,outputs=output)"
      ],
      "execution_count": 28,
      "outputs": [
        {
          "output_type": "stream",
          "text": [
            "KerasTensor(type_spec=TensorSpec(shape=(None, 224, 224, 3), dtype=tf.float32, name='input_1'), name='input_1', description=\"created by layer 'input_1'\")\n"
          ],
          "name": "stdout"
        }
      ]
    },
    {
      "cell_type": "code",
      "metadata": {
        "colab": {
          "base_uri": "https://localhost:8080/"
        },
        "id": "CHehdEA-MMWY",
        "outputId": "eeccbe07-294b-4bc6-c0be-7d9d7b5d3c00"
      },
      "source": [
        "model_2.summary()"
      ],
      "execution_count": 29,
      "outputs": [
        {
          "output_type": "stream",
          "text": [
            "Model: \"model\"\n",
            "_________________________________________________________________\n",
            "Layer (type)                 Output Shape              Param #   \n",
            "=================================================================\n",
            "input_1 (InputLayer)         [(None, 224, 224, 3)]     0         \n",
            "_________________________________________________________________\n",
            "block1_conv1 (Conv2D)        (None, 224, 224, 64)      1792      \n",
            "_________________________________________________________________\n",
            "block1_conv2 (Conv2D)        (None, 224, 224, 64)      36928     \n",
            "_________________________________________________________________\n",
            "block1_pool (MaxPooling2D)   (None, 112, 112, 64)      0         \n",
            "_________________________________________________________________\n",
            "block2_conv1 (Conv2D)        (None, 112, 112, 128)     73856     \n",
            "_________________________________________________________________\n",
            "block2_conv2 (Conv2D)        (None, 112, 112, 128)     147584    \n",
            "_________________________________________________________________\n",
            "block2_pool (MaxPooling2D)   (None, 56, 56, 128)       0         \n",
            "_________________________________________________________________\n",
            "block3_conv1 (Conv2D)        (None, 56, 56, 256)       295168    \n",
            "_________________________________________________________________\n",
            "block3_conv2 (Conv2D)        (None, 56, 56, 256)       590080    \n",
            "_________________________________________________________________\n",
            "block3_conv3 (Conv2D)        (None, 56, 56, 256)       590080    \n",
            "_________________________________________________________________\n",
            "block3_pool (MaxPooling2D)   (None, 28, 28, 256)       0         \n",
            "_________________________________________________________________\n",
            "block4_conv1 (Conv2D)        (None, 28, 28, 512)       1180160   \n",
            "_________________________________________________________________\n",
            "block4_conv2 (Conv2D)        (None, 28, 28, 512)       2359808   \n",
            "_________________________________________________________________\n",
            "block4_conv3 (Conv2D)        (None, 28, 28, 512)       2359808   \n",
            "_________________________________________________________________\n",
            "block4_pool (MaxPooling2D)   (None, 14, 14, 512)       0         \n",
            "_________________________________________________________________\n",
            "block5_conv1 (Conv2D)        (None, 14, 14, 512)       2359808   \n",
            "_________________________________________________________________\n",
            "block5_conv2 (Conv2D)        (None, 14, 14, 512)       2359808   \n",
            "_________________________________________________________________\n",
            "block5_conv3 (Conv2D)        (None, 14, 14, 512)       2359808   \n",
            "_________________________________________________________________\n",
            "block5_pool (MaxPooling2D)   (None, 7, 7, 512)         0         \n",
            "_________________________________________________________________\n",
            "Conv1 (Conv2D)               (None, 1, 1, 4096)        102764544 \n",
            "_________________________________________________________________\n",
            "Conv2 (Conv2D)               (None, 1, 1, 4096)        16781312  \n",
            "_________________________________________________________________\n",
            "Flatten (Flatten)            (None, 4096)              0         \n",
            "_________________________________________________________________\n",
            "Output (Dense)               (None, 16)                65552     \n",
            "=================================================================\n",
            "Total params: 134,326,096\n",
            "Trainable params: 119,611,408\n",
            "Non-trainable params: 14,714,688\n",
            "_________________________________________________________________\n"
          ],
          "name": "stdout"
        }
      ]
    },
    {
      "cell_type": "code",
      "metadata": {
        "colab": {
          "base_uri": "https://localhost:8080/"
        },
        "id": "bLqRPhsOYZcb",
        "outputId": "a1e6d2c8-fc06-4e52-ce0c-b30c97361e76"
      },
      "source": [
        "model_2.compile(optimizer='rmsprop', loss='categorical_crossentropy',metrics=['accuracy'])\n",
        "\n",
        "history_2=model_2.fit(ImageGenerator_train,\n",
        "                    validation_data=ImageGenerator_validation,epochs=3,steps_per_epoch=len(ImageGenerator_train),validation_steps=len(ImageGenerator_validation))"
      ],
      "execution_count": 30,
      "outputs": [
        {
          "output_type": "stream",
          "text": [
            "Epoch 1/3\n",
            "1200/1200 [==============================] - 411s 340ms/step - loss: 35.6998 - accuracy: 0.3550 - val_loss: 1.4625 - val_accuracy: 0.5932\n",
            "Epoch 2/3\n",
            "1200/1200 [==============================] - 407s 339ms/step - loss: 1.3623 - accuracy: 0.6112 - val_loss: 1.5124 - val_accuracy: 0.5892\n",
            "Epoch 3/3\n",
            "1200/1200 [==============================] - 407s 339ms/step - loss: 1.1447 - accuracy: 0.6856 - val_loss: 1.3520 - val_accuracy: 0.6592\n"
          ],
          "name": "stdout"
        }
      ]
    },
    {
      "cell_type": "markdown",
      "metadata": {
        "id": "N9AULF-PcAFC"
      },
      "source": [
        "<pre>\n",
        "1. Use same network as Model-2 '<b>INPUT --> VGG-16 without Top layers(FC) --> 2 Conv Layers identical to FC --> Output Layer</b>' and train only Last 6 Layers of VGG-16 network, 2 Conv layers identical to FC layers, 1 output layer.\n",
        "</pre>"
      ]
    },
    {
      "cell_type": "markdown",
      "metadata": {
        "id": "geTnLyPyoBbx"
      },
      "source": [
        "MODEL 3\n"
      ]
    },
    {
      "cell_type": "code",
      "metadata": {
        "id": "R44aWp4-MMdH"
      },
      "source": [
        "import os\n",
        "os.environ['PYTHONHASHSEED'] = '0'\n",
        "\n",
        "\n",
        "tf.keras.backend.clear_session()\n",
        "\n",
        "## Set the random seed values to regenerate the model.\n",
        "np.random.seed(0)\n",
        "rn.seed(0)\n",
        "\n",
        "\n",
        "#VGG-16\n",
        "base_model_3=tf.keras.applications.VGG16(weights='imagenet', include_top=False,input_shape=(224,224,3))\n",
        "\n",
        "\n",
        "# add a global spatial average pooling layer\n",
        "x=base_model_3.output\n",
        "\n",
        "\n",
        "\n",
        "for layer in base_model_3.layers[:13]:\n",
        "  layer.trainable = False\n",
        "\n",
        "\n",
        "# # #Conv Layer\n",
        "Conv1 = Conv2D(4096,kernel_size=[7,7],strides=(1,1),padding='valid', activation='relu',name='Conv1')(x)\n",
        "\n",
        "Conv2 = Conv2D(4096,kernel_size=[1,1],strides=(1,1),padding='valid',data_format='channels_last', \n",
        "               activation='relu',kernel_initializer=tf.keras.initializers.he_normal(seed=0),name='Conv2')(Conv1)\n",
        "flatten = Flatten(data_format='channels_last',name='Flatten')(Conv2)\n",
        "output = Dense(units=16,activation='softmax',kernel_initializer=tf.keras.initializers.glorot_normal(seed=3),name='Output')(flatten)\n",
        "\n",
        "# #Creating a model\n",
        "model_3 = Model(inputs=base_model_3.input,outputs=output)"
      ],
      "execution_count": 31,
      "outputs": []
    },
    {
      "cell_type": "code",
      "metadata": {
        "colab": {
          "base_uri": "https://localhost:8080/"
        },
        "id": "BTYwP2fDMMe_",
        "outputId": "a29aebb8-5622-4800-ad43-1928f6f4de94"
      },
      "source": [
        "model_3.summary()"
      ],
      "execution_count": 32,
      "outputs": [
        {
          "output_type": "stream",
          "text": [
            "Model: \"model\"\n",
            "_________________________________________________________________\n",
            "Layer (type)                 Output Shape              Param #   \n",
            "=================================================================\n",
            "input_1 (InputLayer)         [(None, 224, 224, 3)]     0         \n",
            "_________________________________________________________________\n",
            "block1_conv1 (Conv2D)        (None, 224, 224, 64)      1792      \n",
            "_________________________________________________________________\n",
            "block1_conv2 (Conv2D)        (None, 224, 224, 64)      36928     \n",
            "_________________________________________________________________\n",
            "block1_pool (MaxPooling2D)   (None, 112, 112, 64)      0         \n",
            "_________________________________________________________________\n",
            "block2_conv1 (Conv2D)        (None, 112, 112, 128)     73856     \n",
            "_________________________________________________________________\n",
            "block2_conv2 (Conv2D)        (None, 112, 112, 128)     147584    \n",
            "_________________________________________________________________\n",
            "block2_pool (MaxPooling2D)   (None, 56, 56, 128)       0         \n",
            "_________________________________________________________________\n",
            "block3_conv1 (Conv2D)        (None, 56, 56, 256)       295168    \n",
            "_________________________________________________________________\n",
            "block3_conv2 (Conv2D)        (None, 56, 56, 256)       590080    \n",
            "_________________________________________________________________\n",
            "block3_conv3 (Conv2D)        (None, 56, 56, 256)       590080    \n",
            "_________________________________________________________________\n",
            "block3_pool (MaxPooling2D)   (None, 28, 28, 256)       0         \n",
            "_________________________________________________________________\n",
            "block4_conv1 (Conv2D)        (None, 28, 28, 512)       1180160   \n",
            "_________________________________________________________________\n",
            "block4_conv2 (Conv2D)        (None, 28, 28, 512)       2359808   \n",
            "_________________________________________________________________\n",
            "block4_conv3 (Conv2D)        (None, 28, 28, 512)       2359808   \n",
            "_________________________________________________________________\n",
            "block4_pool (MaxPooling2D)   (None, 14, 14, 512)       0         \n",
            "_________________________________________________________________\n",
            "block5_conv1 (Conv2D)        (None, 14, 14, 512)       2359808   \n",
            "_________________________________________________________________\n",
            "block5_conv2 (Conv2D)        (None, 14, 14, 512)       2359808   \n",
            "_________________________________________________________________\n",
            "block5_conv3 (Conv2D)        (None, 14, 14, 512)       2359808   \n",
            "_________________________________________________________________\n",
            "block5_pool (MaxPooling2D)   (None, 7, 7, 512)         0         \n",
            "_________________________________________________________________\n",
            "Conv1 (Conv2D)               (None, 1, 1, 4096)        102764544 \n",
            "_________________________________________________________________\n",
            "Conv2 (Conv2D)               (None, 1, 1, 4096)        16781312  \n",
            "_________________________________________________________________\n",
            "Flatten (Flatten)            (None, 4096)              0         \n",
            "_________________________________________________________________\n",
            "Output (Dense)               (None, 16)                65552     \n",
            "=================================================================\n",
            "Total params: 134,326,096\n",
            "Trainable params: 129,050,640\n",
            "Non-trainable params: 5,275,456\n",
            "_________________________________________________________________\n"
          ],
          "name": "stdout"
        }
      ]
    },
    {
      "cell_type": "code",
      "metadata": {
        "colab": {
          "base_uri": "https://localhost:8080/"
        },
        "id": "GDhKWHLRMMsW",
        "outputId": "34a5132f-d1e4-4fba-b25c-ac188ecf98ef"
      },
      "source": [
        "model_3.compile(optimizer='rmsprop', loss='categorical_crossentropy',metrics=['accuracy'])\n",
        "\n",
        "history_3=model_3.fit(ImageGenerator_train,\n",
        "                    validation_data=ImageGenerator_validation,epochs=3,steps_per_epoch=len(ImageGenerator_train),validation_steps=len(ImageGenerator_validation))"
      ],
      "execution_count": 33,
      "outputs": [
        {
          "output_type": "stream",
          "text": [
            "Epoch 1/3\n",
            "1200/1200 [==============================] - 605s 503ms/step - loss: 212.3048 - accuracy: 0.0661 - val_loss: 2.7729 - val_accuracy: 0.0604\n",
            "Epoch 2/3\n",
            "1200/1200 [==============================] - 602s 502ms/step - loss: 2.7727 - accuracy: 0.0599 - val_loss: 2.7731 - val_accuracy: 0.0577\n",
            "Epoch 3/3\n",
            "1200/1200 [==============================] - 602s 502ms/step - loss: 2.7728 - accuracy: 0.0638 - val_loss: 2.7731 - val_accuracy: 0.0577\n"
          ],
          "name": "stdout"
        }
      ]
    },
    {
      "cell_type": "code",
      "metadata": {
        "colab": {
          "base_uri": "https://localhost:8080/"
        },
        "id": "UtSS1wycTr8D",
        "outputId": "4bfc9540-7c75-4ac0-fb23-2919e099d5ab"
      },
      "source": [
        "history_3.history"
      ],
      "execution_count": 34,
      "outputs": [
        {
          "output_type": "execute_result",
          "data": {
            "text/plain": [
              "{'accuracy': [0.0632341057062149, 0.06117665395140648, 0.06352058798074722],\n",
              " 'loss': [37.17194366455078, 2.7728054523468018, 2.772791624069214],\n",
              " 'val_accuracy': [0.06041666492819786,\n",
              "  0.05770833417773247,\n",
              "  0.05770833417773247],\n",
              " 'val_loss': [2.772883415222168, 2.7730650901794434, 2.773143768310547]}"
            ]
          },
          "metadata": {
            "tags": []
          },
          "execution_count": 34
        }
      ]
    },
    {
      "cell_type": "markdown",
      "metadata": {
        "id": "lAJV4UCMX_WZ"
      },
      "source": [
        "MODEL 1 Accuracy"
      ]
    },
    {
      "cell_type": "code",
      "metadata": {
        "colab": {
          "base_uri": "https://localhost:8080/"
        },
        "id": "PkjynquPMM2r",
        "outputId": "22ba9a9c-cad4-43fc-9d3b-32dbe48b7c7c"
      },
      "source": [
        "history.history['accuracy'][2]*100"
      ],
      "execution_count": 35,
      "outputs": [
        {
          "output_type": "execute_result",
          "data": {
            "text/plain": [
              "61.68450713157654"
            ]
          },
          "metadata": {
            "tags": []
          },
          "execution_count": 35
        }
      ]
    },
    {
      "cell_type": "markdown",
      "metadata": {
        "id": "GRR-zaS9YBmL"
      },
      "source": [
        "MODEL 2 accuracy"
      ]
    },
    {
      "cell_type": "code",
      "metadata": {
        "colab": {
          "base_uri": "https://localhost:8080/"
        },
        "id": "oN0lbtRLMNCh",
        "outputId": "53f41795-b478-499a-8368-2870184f6d77"
      },
      "source": [
        "history_2.history['accuracy'][2]*100"
      ],
      "execution_count": 36,
      "outputs": [
        {
          "output_type": "execute_result",
          "data": {
            "text/plain": [
              "68.21886897087097"
            ]
          },
          "metadata": {
            "tags": []
          },
          "execution_count": 36
        }
      ]
    },
    {
      "cell_type": "markdown",
      "metadata": {
        "id": "u0T1dO4HYCOb"
      },
      "source": [
        "MODEL 3 accuracy"
      ]
    },
    {
      "cell_type": "code",
      "metadata": {
        "colab": {
          "base_uri": "https://localhost:8080/"
        },
        "id": "eHtKlbVhXzdG",
        "outputId": "98f7a42f-8722-447d-90ed-ff1813255ab2"
      },
      "source": [
        "history_3.history['accuracy'][2]*100"
      ],
      "execution_count": 37,
      "outputs": [
        {
          "output_type": "execute_result",
          "data": {
            "text/plain": [
              "6.352058798074722"
            ]
          },
          "metadata": {
            "tags": []
          },
          "execution_count": 37
        }
      ]
    }
  ]
}